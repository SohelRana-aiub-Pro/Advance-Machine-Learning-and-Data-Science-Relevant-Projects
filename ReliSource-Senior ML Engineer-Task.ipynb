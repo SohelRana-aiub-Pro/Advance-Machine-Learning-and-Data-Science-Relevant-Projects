{
 "cells": [
  {
   "cell_type": "markdown",
   "id": "5ccc6708",
   "metadata": {
    "papermill": {
     "duration": 0.019832,
     "end_time": "2023-07-14T05:38:00.956000",
     "exception": false,
     "start_time": "2023-07-14T05:38:00.936168",
     "status": "completed"
    },
    "tags": []
   },
   "source": [
    "* ***Problem Statement;*** \n",
    "\n",
    "Challenge->Please predict column \"y\". Train your models on train.csv and predict on test.csv\n",
    "\n",
    "Note; Submissions are evaluated on Root-Mean-Squared-Error(RMSE) between the predicted value and the observed value."
   ]
  },
  {
   "cell_type": "markdown",
   "id": "16e2cc84",
   "metadata": {
    "papermill": {
     "duration": 0.019033,
     "end_time": "2023-07-14T05:38:00.994269",
     "exception": false,
     "start_time": "2023-07-14T05:38:00.975236",
     "status": "completed"
    },
    "tags": []
   },
   "source": [
    "***Notebook Descriptions;***\n",
    "1. Required things & Import Necessary Librarries.\n",
    "1. Datasets Reading & Datasets Understanding.\n",
    "1. Data Visualizations, Feature Engineering, EDA & Statistical Analysis.\n",
    "1. Datasets Pre-Processing & Split the Dataset for Machine Learning Models Training.\n",
    "\n",
    "1. Machine Learning Model Performance Evaulation And Predictions on the Test Dataset.\n",
    "\n",
    "                          *  Xgboost Regression Model with Hyperparameters Tuning.\n",
    "              \n",
    "                          *  LGBM Regression Model with Hyperparameters Tuning.\n",
    "                          \n",
    "                          *  Stacking averaged Models with Hyperparameters Tuning.\n",
    "                          \n",
    "                          *  Ensemble Stacking averaged Models with Hyperparameters Tuning.\n",
    "              \n",
    "              \n",
    "6. Final Model Selection & Predictions.\n",
    "\n",
    "7. Predicted ouput & Submission File(Submission.csv)."
   ]
  },
  {
   "cell_type": "markdown",
   "id": "79d68af0",
   "metadata": {
    "papermill": {
     "duration": 0.029472,
     "end_time": "2023-07-14T05:38:01.043872",
     "exception": false,
     "start_time": "2023-07-14T05:38:01.014400",
     "status": "completed"
    },
    "tags": []
   },
   "source": [
    "* **Required things & Import Necessary Librarries.**"
   ]
  },
  {
   "cell_type": "code",
   "execution_count": 1,
   "id": "be4108ed",
   "metadata": {
    "execution": {
     "iopub.execute_input": "2023-07-14T05:38:01.090110Z",
     "iopub.status.busy": "2023-07-14T05:38:01.089680Z",
     "iopub.status.idle": "2023-07-14T05:38:01.102781Z",
     "shell.execute_reply": "2023-07-14T05:38:01.101908Z"
    },
    "papermill": {
     "duration": 0.035735,
     "end_time": "2023-07-14T05:38:01.104751",
     "exception": false,
     "start_time": "2023-07-14T05:38:01.069016",
     "status": "completed"
    },
    "tags": []
   },
   "outputs": [],
   "source": [
    "import os\n",
    "\n",
    "#IGNORING WARNINGS\n",
    "from warnings import filterwarnings\n",
    "filterwarnings(\"ignore\",category=DeprecationWarning)\n",
    "filterwarnings(\"ignore\", category=FutureWarning)\n",
    "filterwarnings(\"ignore\", category=UserWarning)"
   ]
  },
  {
   "cell_type": "code",
   "execution_count": 2,
   "id": "cd8c5729",
   "metadata": {
    "execution": {
     "iopub.execute_input": "2023-07-14T05:38:01.146931Z",
     "iopub.status.busy": "2023-07-14T05:38:01.146083Z",
     "iopub.status.idle": "2023-07-14T05:38:02.141865Z",
     "shell.execute_reply": "2023-07-14T05:38:02.140766Z"
    },
    "papermill": {
     "duration": 1.020099,
     "end_time": "2023-07-14T05:38:02.144283",
     "exception": false,
     "start_time": "2023-07-14T05:38:01.124184",
     "status": "completed"
    },
    "tags": []
   },
   "outputs": [
    {
     "name": "stdout",
     "output_type": "stream",
     "text": [
      "Fri Jul 14 05:38:02 2023       \r\n",
      "+-----------------------------------------------------------------------------+\r\n",
      "| NVIDIA-SMI 470.161.03   Driver Version: 470.161.03   CUDA Version: 11.4     |\r\n",
      "|-------------------------------+----------------------+----------------------+\r\n",
      "| GPU  Name        Persistence-M| Bus-Id        Disp.A | Volatile Uncorr. ECC |\r\n",
      "| Fan  Temp  Perf  Pwr:Usage/Cap|         Memory-Usage | GPU-Util  Compute M. |\r\n",
      "|                               |                      |               MIG M. |\r\n",
      "|===============================+======================+======================|\r\n",
      "|   0  Tesla P100-PCIE...  Off  | 00000000:00:04.0 Off |                    0 |\r\n",
      "| N/A   32C    P0    27W / 250W |      0MiB / 16280MiB |      0%      Default |\r\n",
      "|                               |                      |                  N/A |\r\n",
      "+-------------------------------+----------------------+----------------------+\r\n",
      "                                                                               \r\n",
      "+-----------------------------------------------------------------------------+\r\n",
      "| Processes:                                                                  |\r\n",
      "|  GPU   GI   CI        PID   Type   Process name                  GPU Memory |\r\n",
      "|        ID   ID                                                   Usage      |\r\n",
      "|=============================================================================|\r\n",
      "|  No running processes found                                                 |\r\n",
      "+-----------------------------------------------------------------------------+\r\n"
     ]
    }
   ],
   "source": [
    "!nvidia-smi"
   ]
  },
  {
   "cell_type": "code",
   "execution_count": 3,
   "id": "8ab337b5",
   "metadata": {
    "execution": {
     "iopub.execute_input": "2023-07-14T05:38:02.185323Z",
     "iopub.status.busy": "2023-07-14T05:38:02.184955Z",
     "iopub.status.idle": "2023-07-14T05:38:02.190236Z",
     "shell.execute_reply": "2023-07-14T05:38:02.189213Z"
    },
    "papermill": {
     "duration": 0.028292,
     "end_time": "2023-07-14T05:38:02.192606",
     "exception": false,
     "start_time": "2023-07-14T05:38:02.164314",
     "status": "completed"
    },
    "tags": []
   },
   "outputs": [],
   "source": [
    "import os.path\n",
    "import random\n",
    "import time\n",
    "import glob\n",
    "from pathlib import Path"
   ]
  },
  {
   "cell_type": "code",
   "execution_count": 4,
   "id": "c0e5a685",
   "metadata": {
    "execution": {
     "iopub.execute_input": "2023-07-14T05:38:02.232576Z",
     "iopub.status.busy": "2023-07-14T05:38:02.232295Z",
     "iopub.status.idle": "2023-07-14T05:38:03.352283Z",
     "shell.execute_reply": "2023-07-14T05:38:03.351316Z"
    },
    "papermill": {
     "duration": 1.142531,
     "end_time": "2023-07-14T05:38:03.354699",
     "exception": false,
     "start_time": "2023-07-14T05:38:02.212168",
     "status": "completed"
    },
    "tags": []
   },
   "outputs": [],
   "source": [
    "#Basic Packages\n",
    "import pandas as pd\n",
    "import numpy as np\n",
    "import seaborn as sns\n",
    "import matplotlib.pyplot as plt\n",
    "import matplotlib as mpl"
   ]
  },
  {
   "cell_type": "code",
   "execution_count": 5,
   "id": "a0fab9fa",
   "metadata": {
    "execution": {
     "iopub.execute_input": "2023-07-14T05:38:03.395635Z",
     "iopub.status.busy": "2023-07-14T05:38:03.394840Z",
     "iopub.status.idle": "2023-07-14T05:38:03.399425Z",
     "shell.execute_reply": "2023-07-14T05:38:03.398501Z"
    },
    "papermill": {
     "duration": 0.027193,
     "end_time": "2023-07-14T05:38:03.401506",
     "exception": false,
     "start_time": "2023-07-14T05:38:03.374313",
     "status": "completed"
    },
    "tags": []
   },
   "outputs": [],
   "source": [
    "from subprocess import check_output"
   ]
  },
  {
   "cell_type": "code",
   "execution_count": 6,
   "id": "693fa747",
   "metadata": {
    "execution": {
     "iopub.execute_input": "2023-07-14T05:38:03.440843Z",
     "iopub.status.busy": "2023-07-14T05:38:03.440572Z",
     "iopub.status.idle": "2023-07-14T05:38:10.612643Z",
     "shell.execute_reply": "2023-07-14T05:38:10.611672Z"
    },
    "papermill": {
     "duration": 7.194454,
     "end_time": "2023-07-14T05:38:10.614976",
     "exception": false,
     "start_time": "2023-07-14T05:38:03.420522",
     "status": "completed"
    },
    "tags": []
   },
   "outputs": [],
   "source": [
    "#SCALER & TRANSFORMATION\n",
    "from sklearn.preprocessing import StandardScaler\n",
    "from keras.utils.np_utils import to_categorical\n",
    "from sklearn.model_selection import train_test_split\n",
    "from keras import regularizers\n",
    "from sklearn.preprocessing import LabelEncoder"
   ]
  },
  {
   "cell_type": "code",
   "execution_count": 7,
   "id": "2477b817",
   "metadata": {
    "execution": {
     "iopub.execute_input": "2023-07-14T05:38:10.656020Z",
     "iopub.status.busy": "2023-07-14T05:38:10.655412Z",
     "iopub.status.idle": "2023-07-14T05:38:12.103361Z",
     "shell.execute_reply": "2023-07-14T05:38:12.102364Z"
    },
    "papermill": {
     "duration": 1.470661,
     "end_time": "2023-07-14T05:38:12.105684",
     "exception": false,
     "start_time": "2023-07-14T05:38:10.635023",
     "status": "completed"
    },
    "tags": []
   },
   "outputs": [],
   "source": [
    "# Stats And Ml Models\n",
    "import statsmodels.api as sm\n",
    "import statsmodels.formula.api as smf\n",
    "import gc\n",
    "import re\n",
    "from sklearn.linear_model import LinearRegression\n",
    "from sklearn.metrics import mean_squared_error\n",
    "import sklearn.preprocessing as prep\n",
    "import sklearn.ensemble as ens"
   ]
  },
  {
   "cell_type": "code",
   "execution_count": 8,
   "id": "51e88c18",
   "metadata": {
    "execution": {
     "iopub.execute_input": "2023-07-14T05:38:12.146601Z",
     "iopub.status.busy": "2023-07-14T05:38:12.145789Z",
     "iopub.status.idle": "2023-07-14T05:38:12.151078Z",
     "shell.execute_reply": "2023-07-14T05:38:12.150185Z"
    },
    "papermill": {
     "duration": 0.027658,
     "end_time": "2023-07-14T05:38:12.153270",
     "exception": false,
     "start_time": "2023-07-14T05:38:12.125612",
     "status": "completed"
    },
    "tags": []
   },
   "outputs": [],
   "source": [
    "from scipy import stats\n",
    "from scipy.stats import norm, skew #for some statistics\n",
    "pd.set_option('display.float_format', lambda x: '{:.3f}'.format(x)) #Limiting floats output to 3 decimal points"
   ]
  },
  {
   "cell_type": "code",
   "execution_count": 9,
   "id": "8878ff52",
   "metadata": {
    "execution": {
     "iopub.execute_input": "2023-07-14T05:38:12.195257Z",
     "iopub.status.busy": "2023-07-14T05:38:12.194955Z",
     "iopub.status.idle": "2023-07-14T05:38:14.185776Z",
     "shell.execute_reply": "2023-07-14T05:38:14.184280Z"
    },
    "papermill": {
     "duration": 2.015745,
     "end_time": "2023-07-14T05:38:14.188332",
     "exception": false,
     "start_time": "2023-07-14T05:38:12.172587",
     "status": "completed"
    },
    "tags": []
   },
   "outputs": [],
   "source": [
    "from sklearn.linear_model import ElasticNet, Lasso,  BayesianRidge, LassoLarsIC\n",
    "from sklearn.ensemble import RandomForestRegressor,  GradientBoostingRegressor\n",
    "from sklearn.kernel_ridge import KernelRidge\n",
    "from sklearn.pipeline import make_pipeline\n",
    "from sklearn.preprocessing import RobustScaler\n",
    "from sklearn.base import BaseEstimator, TransformerMixin, RegressorMixin, clone\n",
    "from sklearn.model_selection import KFold, cross_val_score, train_test_split\n",
    "import xgboost as xgb\n",
    "import lightgbm as lgb"
   ]
  },
  {
   "cell_type": "code",
   "execution_count": 10,
   "id": "6f230661",
   "metadata": {
    "execution": {
     "iopub.execute_input": "2023-07-14T05:38:14.229227Z",
     "iopub.status.busy": "2023-07-14T05:38:14.228912Z",
     "iopub.status.idle": "2023-07-14T05:38:14.233877Z",
     "shell.execute_reply": "2023-07-14T05:38:14.232979Z"
    },
    "papermill": {
     "duration": 0.027619,
     "end_time": "2023-07-14T05:38:14.235893",
     "exception": false,
     "start_time": "2023-07-14T05:38:14.208274",
     "status": "completed"
    },
    "tags": []
   },
   "outputs": [],
   "source": [
    "#ACCURACY CONTROL\n",
    "from sklearn.model_selection import GridSearchCV, cross_val_score\n",
    "from sklearn.metrics import mean_squared_error, r2_score\n",
    "#OPTIMIZER\n",
    "from keras.optimizers import RMSprop,Adam,Optimizer,Optimizer, SGD"
   ]
  },
  {
   "cell_type": "code",
   "execution_count": 11,
   "id": "aa9a3dbc",
   "metadata": {
    "execution": {
     "iopub.execute_input": "2023-07-14T05:38:14.276276Z",
     "iopub.status.busy": "2023-07-14T05:38:14.275408Z",
     "iopub.status.idle": "2023-07-14T05:38:14.538286Z",
     "shell.execute_reply": "2023-07-14T05:38:14.537373Z"
    },
    "papermill": {
     "duration": 0.285504,
     "end_time": "2023-07-14T05:38:14.540617",
     "exception": false,
     "start_time": "2023-07-14T05:38:14.255113",
     "status": "completed"
    },
    "tags": []
   },
   "outputs": [],
   "source": [
    "#Deep Learning Model Packages\n",
    "import tensorflow as tf\n",
    "from tensorflow.keras.models import Sequential\n",
    "from keras import models\n",
    "from keras.utils import plot_model\n",
    "import keras\n",
    "from keras.models import Model\n",
    "from keras import layers\n",
    "from tensorflow.keras.layers import Dense\n",
    "from tensorflow.keras.wrappers.scikit_learn import KerasRegressor\n",
    "from keras import backend as K"
   ]
  },
  {
   "cell_type": "markdown",
   "id": "9f312a67",
   "metadata": {
    "papermill": {
     "duration": 0.019228,
     "end_time": "2023-07-14T05:38:14.579313",
     "exception": false,
     "start_time": "2023-07-14T05:38:14.560085",
     "status": "completed"
    },
    "tags": []
   },
   "source": [
    "* **Datasets Reading & Datasets Understanding.**"
   ]
  },
  {
   "cell_type": "code",
   "execution_count": 12,
   "id": "9ebf5bf9",
   "metadata": {
    "execution": {
     "iopub.execute_input": "2023-07-14T05:38:14.619671Z",
     "iopub.status.busy": "2023-07-14T05:38:14.618859Z",
     "iopub.status.idle": "2023-07-14T05:38:14.648954Z",
     "shell.execute_reply": "2023-07-14T05:38:14.647905Z"
    },
    "papermill": {
     "duration": 0.05268,
     "end_time": "2023-07-14T05:38:14.651114",
     "exception": false,
     "start_time": "2023-07-14T05:38:14.598434",
     "status": "completed"
    },
    "tags": []
   },
   "outputs": [
    {
     "name": "stdout",
     "output_type": "stream",
     "text": [
      "sample_submission.csv\n",
      "test.csv\n",
      "train.csv\n",
      "\n"
     ]
    }
   ],
   "source": [
    "print(check_output([\"ls\", \"../input/sample-datasets/Senior ML Engineer-Task\"]).decode(\"utf8\"))"
   ]
  },
  {
   "cell_type": "code",
   "execution_count": 13,
   "id": "bd0f19e1",
   "metadata": {
    "execution": {
     "iopub.execute_input": "2023-07-14T05:38:14.691376Z",
     "iopub.status.busy": "2023-07-14T05:38:14.690489Z",
     "iopub.status.idle": "2023-07-14T05:38:14.727934Z",
     "shell.execute_reply": "2023-07-14T05:38:14.727035Z"
    },
    "papermill": {
     "duration": 0.059591,
     "end_time": "2023-07-14T05:38:14.729997",
     "exception": false,
     "start_time": "2023-07-14T05:38:14.670406",
     "status": "completed"
    },
    "tags": []
   },
   "outputs": [
    {
     "data": {
      "text/html": [
       "<div>\n",
       "<style scoped>\n",
       "    .dataframe tbody tr th:only-of-type {\n",
       "        vertical-align: middle;\n",
       "    }\n",
       "\n",
       "    .dataframe tbody tr th {\n",
       "        vertical-align: top;\n",
       "    }\n",
       "\n",
       "    .dataframe thead th {\n",
       "        text-align: right;\n",
       "    }\n",
       "</style>\n",
       "<table border=\"1\" class=\"dataframe\">\n",
       "  <thead>\n",
       "    <tr style=\"text-align: right;\">\n",
       "      <th></th>\n",
       "      <th>UID</th>\n",
       "      <th>col_0</th>\n",
       "      <th>col_1</th>\n",
       "      <th>col_2</th>\n",
       "      <th>col_3</th>\n",
       "      <th>col_4</th>\n",
       "      <th>col_5</th>\n",
       "      <th>col_6</th>\n",
       "      <th>y</th>\n",
       "    </tr>\n",
       "  </thead>\n",
       "  <tbody>\n",
       "    <tr>\n",
       "      <th>0</th>\n",
       "      <td>0</td>\n",
       "      <td>A 0</td>\n",
       "      <td>B0</td>\n",
       "      <td>C2</td>\n",
       "      <td>D1</td>\n",
       "      <td>100</td>\n",
       "      <td>E1</td>\n",
       "      <td>F2</td>\n",
       "      <td>237000</td>\n",
       "    </tr>\n",
       "    <tr>\n",
       "      <th>1</th>\n",
       "      <td>1</td>\n",
       "      <td>A1</td>\n",
       "      <td>B0</td>\n",
       "      <td>C11</td>\n",
       "      <td>D4</td>\n",
       "      <td>100</td>\n",
       "      <td>E4</td>\n",
       "      <td>F2</td>\n",
       "      <td>86193</td>\n",
       "    </tr>\n",
       "    <tr>\n",
       "      <th>2</th>\n",
       "      <td>2</td>\n",
       "      <td>A0</td>\n",
       "      <td>B0</td>\n",
       "      <td>C18</td>\n",
       "      <td>D0</td>\n",
       "      <td>0</td>\n",
       "      <td>E0</td>\n",
       "      <td>F2</td>\n",
       "      <td>169200</td>\n",
       "    </tr>\n",
       "    <tr>\n",
       "      <th>3</th>\n",
       "      <td>3</td>\n",
       "      <td>A2</td>\n",
       "      <td>B0</td>\n",
       "      <td>C11</td>\n",
       "      <td>D1</td>\n",
       "      <td>100</td>\n",
       "      <td>E1</td>\n",
       "      <td>F2</td>\n",
       "      <td>58000</td>\n",
       "    </tr>\n",
       "    <tr>\n",
       "      <th>4</th>\n",
       "      <td>4</td>\n",
       "      <td>A0</td>\n",
       "      <td>B0</td>\n",
       "      <td>C67</td>\n",
       "      <td>D1</td>\n",
       "      <td>0</td>\n",
       "      <td>E1</td>\n",
       "      <td>F2</td>\n",
       "      <td>235000</td>\n",
       "    </tr>\n",
       "    <tr>\n",
       "      <th>5</th>\n",
       "      <td>5</td>\n",
       "      <td>A0</td>\n",
       "      <td>B0</td>\n",
       "      <td>C11</td>\n",
       "      <td>D1</td>\n",
       "      <td>100</td>\n",
       "      <td>E1</td>\n",
       "      <td>F2</td>\n",
       "      <td>170000</td>\n",
       "    </tr>\n",
       "    <tr>\n",
       "      <th>6</th>\n",
       "      <td>6</td>\n",
       "      <td>AO</td>\n",
       "      <td>B0</td>\n",
       "      <td>C11</td>\n",
       "      <td>D1</td>\n",
       "      <td>100</td>\n",
       "      <td>E1</td>\n",
       "      <td>F0</td>\n",
       "      <td>183600</td>\n",
       "    </tr>\n",
       "    <tr>\n",
       "      <th>7</th>\n",
       "      <td>7</td>\n",
       "      <td>A0</td>\n",
       "      <td>B0</td>\n",
       "      <td>C4</td>\n",
       "      <td>D1</td>\n",
       "      <td>0</td>\n",
       "      <td>E1</td>\n",
       "      <td>F2</td>\n",
       "      <td>100000</td>\n",
       "    </tr>\n",
       "    <tr>\n",
       "      <th>8</th>\n",
       "      <td>8</td>\n",
       "      <td>A0</td>\n",
       "      <td>B0</td>\n",
       "      <td>C2</td>\n",
       "      <td>D1</td>\n",
       "      <td>100</td>\n",
       "      <td>E1</td>\n",
       "      <td>F2</td>\n",
       "      <td>175000</td>\n",
       "    </tr>\n",
       "    <tr>\n",
       "      <th>9</th>\n",
       "      <td>9</td>\n",
       "      <td>A0</td>\n",
       "      <td>B0</td>\n",
       "      <td>C2</td>\n",
       "      <td>D1</td>\n",
       "      <td>100</td>\n",
       "      <td>E1</td>\n",
       "      <td>F2</td>\n",
       "      <td>136000</td>\n",
       "    </tr>\n",
       "  </tbody>\n",
       "</table>\n",
       "</div>"
      ],
      "text/plain": [
       "   UID col_0 col_1 col_2 col_3  col_4 col_5 col_6       y\n",
       "0    0   A 0    B0    C2    D1    100    E1    F2  237000\n",
       "1    1    A1    B0   C11    D4    100    E4    F2   86193\n",
       "2    2    A0    B0   C18    D0      0    E0    F2  169200\n",
       "3    3    A2    B0   C11    D1    100    E1    F2   58000\n",
       "4    4    A0    B0   C67    D1      0    E1    F2  235000\n",
       "5    5    A0    B0   C11    D1    100    E1    F2  170000\n",
       "6    6    AO    B0   C11    D1    100    E1    F0  183600\n",
       "7    7    A0    B0    C4    D1      0    E1    F2  100000\n",
       "8    8    A0    B0    C2    D1    100    E1    F2  175000\n",
       "9    9    A0    B0    C2    D1    100    E1    F2  136000"
      ]
     },
     "execution_count": 13,
     "metadata": {},
     "output_type": "execute_result"
    }
   ],
   "source": [
    "#Now let's import and put the train and test datasets in  pandas dataframe\n",
    "\n",
    "train = pd.read_csv('../input/sample-datasets/Senior ML Engineer-Task/train.csv')\n",
    "\n",
    "train.head(10)"
   ]
  },
  {
   "cell_type": "code",
   "execution_count": 14,
   "id": "51716846",
   "metadata": {
    "execution": {
     "iopub.execute_input": "2023-07-14T05:38:14.771469Z",
     "iopub.status.busy": "2023-07-14T05:38:14.770590Z",
     "iopub.status.idle": "2023-07-14T05:38:14.793306Z",
     "shell.execute_reply": "2023-07-14T05:38:14.792325Z"
    },
    "papermill": {
     "duration": 0.045782,
     "end_time": "2023-07-14T05:38:14.795351",
     "exception": false,
     "start_time": "2023-07-14T05:38:14.749569",
     "status": "completed"
    },
    "tags": []
   },
   "outputs": [
    {
     "data": {
      "text/html": [
       "<div>\n",
       "<style scoped>\n",
       "    .dataframe tbody tr th:only-of-type {\n",
       "        vertical-align: middle;\n",
       "    }\n",
       "\n",
       "    .dataframe tbody tr th {\n",
       "        vertical-align: top;\n",
       "    }\n",
       "\n",
       "    .dataframe thead th {\n",
       "        text-align: right;\n",
       "    }\n",
       "</style>\n",
       "<table border=\"1\" class=\"dataframe\">\n",
       "  <thead>\n",
       "    <tr style=\"text-align: right;\">\n",
       "      <th></th>\n",
       "      <th>UID</th>\n",
       "      <th>col_0</th>\n",
       "      <th>col_1</th>\n",
       "      <th>col_2</th>\n",
       "      <th>col_3</th>\n",
       "      <th>col_4</th>\n",
       "      <th>col_5</th>\n",
       "      <th>col_6</th>\n",
       "    </tr>\n",
       "  </thead>\n",
       "  <tbody>\n",
       "    <tr>\n",
       "      <th>0</th>\n",
       "      <td>2628</td>\n",
       "      <td>A0</td>\n",
       "      <td>B0</td>\n",
       "      <td>C11</td>\n",
       "      <td>D1</td>\n",
       "      <td>100</td>\n",
       "      <td>E1</td>\n",
       "      <td>F2</td>\n",
       "    </tr>\n",
       "    <tr>\n",
       "      <th>1</th>\n",
       "      <td>2629</td>\n",
       "      <td>A0</td>\n",
       "      <td>B0</td>\n",
       "      <td>C11</td>\n",
       "      <td>D1</td>\n",
       "      <td>0</td>\n",
       "      <td>E1</td>\n",
       "      <td>F2</td>\n",
       "    </tr>\n",
       "    <tr>\n",
       "      <th>2</th>\n",
       "      <td>2630</td>\n",
       "      <td>A0</td>\n",
       "      <td>B0</td>\n",
       "      <td>C11</td>\n",
       "      <td>D1</td>\n",
       "      <td>100</td>\n",
       "      <td>E1</td>\n",
       "      <td>F2</td>\n",
       "    </tr>\n",
       "    <tr>\n",
       "      <th>3</th>\n",
       "      <td>2631</td>\n",
       "      <td>A0</td>\n",
       "      <td>B0</td>\n",
       "      <td>C26</td>\n",
       "      <td>D1</td>\n",
       "      <td>100</td>\n",
       "      <td>E1</td>\n",
       "      <td>F0</td>\n",
       "    </tr>\n",
       "    <tr>\n",
       "      <th>4</th>\n",
       "      <td>2632</td>\n",
       "      <td>A0</td>\n",
       "      <td>B0</td>\n",
       "      <td>C11</td>\n",
       "      <td>D1</td>\n",
       "      <td>100</td>\n",
       "      <td>E1</td>\n",
       "      <td>NaN</td>\n",
       "    </tr>\n",
       "    <tr>\n",
       "      <th>5</th>\n",
       "      <td>2633</td>\n",
       "      <td>A 0</td>\n",
       "      <td>B0</td>\n",
       "      <td>C2</td>\n",
       "      <td>D1</td>\n",
       "      <td>100</td>\n",
       "      <td>E1</td>\n",
       "      <td>F2</td>\n",
       "    </tr>\n",
       "    <tr>\n",
       "      <th>6</th>\n",
       "      <td>2634</td>\n",
       "      <td>A0</td>\n",
       "      <td>B0</td>\n",
       "      <td>C11</td>\n",
       "      <td>D1</td>\n",
       "      <td>0</td>\n",
       "      <td>E1</td>\n",
       "      <td>F2</td>\n",
       "    </tr>\n",
       "    <tr>\n",
       "      <th>7</th>\n",
       "      <td>2635</td>\n",
       "      <td>A1</td>\n",
       "      <td>NaN</td>\n",
       "      <td>C2</td>\n",
       "      <td>D12</td>\n",
       "      <td>50</td>\n",
       "      <td>E11</td>\n",
       "      <td>F2</td>\n",
       "    </tr>\n",
       "    <tr>\n",
       "      <th>8</th>\n",
       "      <td>2636</td>\n",
       "      <td>A0</td>\n",
       "      <td>B0</td>\n",
       "      <td>C11</td>\n",
       "      <td>D1</td>\n",
       "      <td>0</td>\n",
       "      <td>E1</td>\n",
       "      <td>F0</td>\n",
       "    </tr>\n",
       "    <tr>\n",
       "      <th>9</th>\n",
       "      <td>2637</td>\n",
       "      <td>A0</td>\n",
       "      <td>B0</td>\n",
       "      <td>C9</td>\n",
       "      <td>D1</td>\n",
       "      <td>0</td>\n",
       "      <td>E1</td>\n",
       "      <td>F2</td>\n",
       "    </tr>\n",
       "  </tbody>\n",
       "</table>\n",
       "</div>"
      ],
      "text/plain": [
       "    UID col_0 col_1 col_2 col_3  col_4 col_5 col_6\n",
       "0  2628    A0    B0   C11    D1    100    E1    F2\n",
       "1  2629    A0    B0   C11    D1      0    E1    F2\n",
       "2  2630    A0    B0   C11    D1    100    E1    F2\n",
       "3  2631    A0    B0   C26    D1    100    E1    F0\n",
       "4  2632    A0    B0   C11    D1    100    E1   NaN\n",
       "5  2633   A 0    B0    C2    D1    100    E1    F2\n",
       "6  2634    A0    B0   C11    D1      0    E1    F2\n",
       "7  2635    A1   NaN    C2   D12     50   E11    F2\n",
       "8  2636    A0    B0   C11    D1      0    E1    F0\n",
       "9  2637    A0    B0    C9    D1      0    E1    F2"
      ]
     },
     "execution_count": 14,
     "metadata": {},
     "output_type": "execute_result"
    }
   ],
   "source": [
    "test = pd.read_csv('../input/sample-datasets/Senior ML Engineer-Task/test.csv')\n",
    "\n",
    "test.head(10)"
   ]
  },
  {
   "cell_type": "code",
   "execution_count": 15,
   "id": "f6c22d24",
   "metadata": {
    "execution": {
     "iopub.execute_input": "2023-07-14T05:38:14.838559Z",
     "iopub.status.busy": "2023-07-14T05:38:14.837799Z",
     "iopub.status.idle": "2023-07-14T05:38:14.843779Z",
     "shell.execute_reply": "2023-07-14T05:38:14.842459Z"
    },
    "papermill": {
     "duration": 0.030397,
     "end_time": "2023-07-14T05:38:14.846010",
     "exception": false,
     "start_time": "2023-07-14T05:38:14.815613",
     "status": "completed"
    },
    "tags": []
   },
   "outputs": [
    {
     "name": "stdout",
     "output_type": "stream",
     "text": [
      "The train data size before dropping UID feature is : (2628, 9) \n",
      "The test data size before dropping UID feature is : (1127, 8) \n"
     ]
    }
   ],
   "source": [
    "#check the numbers of samples and features\n",
    "print(\"The train data size before dropping UID feature is : {} \".format(train.shape))\n",
    "\n",
    "print(\"The test data size before dropping UID feature is : {} \".format(test.shape))"
   ]
  },
  {
   "cell_type": "code",
   "execution_count": 16,
   "id": "e02dee56",
   "metadata": {
    "execution": {
     "iopub.execute_input": "2023-07-14T05:38:14.888088Z",
     "iopub.status.busy": "2023-07-14T05:38:14.887277Z",
     "iopub.status.idle": "2023-07-14T05:38:14.892532Z",
     "shell.execute_reply": "2023-07-14T05:38:14.891639Z"
    },
    "papermill": {
     "duration": 0.028262,
     "end_time": "2023-07-14T05:38:14.894533",
     "exception": false,
     "start_time": "2023-07-14T05:38:14.866271",
     "status": "completed"
    },
    "tags": []
   },
   "outputs": [],
   "source": [
    "#Save the 'UID' column\n",
    "train_UID = train['UID']\n",
    "\n",
    "test_UID = test['UID']"
   ]
  },
  {
   "cell_type": "code",
   "execution_count": 17,
   "id": "68f2a0e1",
   "metadata": {
    "execution": {
     "iopub.execute_input": "2023-07-14T05:38:14.936079Z",
     "iopub.status.busy": "2023-07-14T05:38:14.935348Z",
     "iopub.status.idle": "2023-07-14T05:38:14.943130Z",
     "shell.execute_reply": "2023-07-14T05:38:14.942308Z"
    },
    "papermill": {
     "duration": 0.030521,
     "end_time": "2023-07-14T05:38:14.945120",
     "exception": false,
     "start_time": "2023-07-14T05:38:14.914599",
     "status": "completed"
    },
    "tags": []
   },
   "outputs": [],
   "source": [
    "#Now drop the  'Id' colum since it's unnecessary for  the prediction process.\n",
    "train.drop(\"UID\", axis = 1, inplace = True)\n",
    "test.drop(\"UID\", axis = 1, inplace = True)"
   ]
  },
  {
   "cell_type": "code",
   "execution_count": 18,
   "id": "13aca9d2",
   "metadata": {
    "execution": {
     "iopub.execute_input": "2023-07-14T05:38:14.986872Z",
     "iopub.status.busy": "2023-07-14T05:38:14.986227Z",
     "iopub.status.idle": "2023-07-14T05:38:14.991298Z",
     "shell.execute_reply": "2023-07-14T05:38:14.990400Z"
    },
    "papermill": {
     "duration": 0.028514,
     "end_time": "2023-07-14T05:38:14.993936",
     "exception": false,
     "start_time": "2023-07-14T05:38:14.965422",
     "status": "completed"
    },
    "tags": []
   },
   "outputs": [
    {
     "name": "stdout",
     "output_type": "stream",
     "text": [
      "\n",
      "The train data size after dropping UID feature is : (2628, 8) \n",
      "The test data size after dropping UID feature is : (1127, 7) \n"
     ]
    }
   ],
   "source": [
    "#check again the data size after dropping the 'UID' variable\n",
    "print(\"\\nThe train data size after dropping UID feature is : {} \".format(train.shape)) \n",
    "\n",
    "print(\"The test data size after dropping UID feature is : {} \".format(test.shape))"
   ]
  },
  {
   "cell_type": "markdown",
   "id": "0d852cbb",
   "metadata": {
    "papermill": {
     "duration": 0.019919,
     "end_time": "2023-07-14T05:38:15.034166",
     "exception": false,
     "start_time": "2023-07-14T05:38:15.014247",
     "status": "completed"
    },
    "tags": []
   },
   "source": [
    "**Target Variable;** \n",
    "Log-transformation of the target variable"
   ]
  },
  {
   "cell_type": "code",
   "execution_count": 19,
   "id": "0c1c7f61",
   "metadata": {
    "execution": {
     "iopub.execute_input": "2023-07-14T05:38:15.075583Z",
     "iopub.status.busy": "2023-07-14T05:38:15.075037Z",
     "iopub.status.idle": "2023-07-14T05:38:15.080927Z",
     "shell.execute_reply": "2023-07-14T05:38:15.079986Z"
    },
    "papermill": {
     "duration": 0.028566,
     "end_time": "2023-07-14T05:38:15.082893",
     "exception": false,
     "start_time": "2023-07-14T05:38:15.054327",
     "status": "completed"
    },
    "tags": []
   },
   "outputs": [],
   "source": [
    "#We use the numpy fuction log1p which  applies log(1+x) to all elements of the column\n",
    "train[\"y\"] = np.log1p(train[\"y\"])"
   ]
  },
  {
   "cell_type": "markdown",
   "id": "9e87f689",
   "metadata": {
    "papermill": {
     "duration": 0.01977,
     "end_time": "2023-07-14T05:38:15.123076",
     "exception": false,
     "start_time": "2023-07-14T05:38:15.103306",
     "status": "completed"
    },
    "tags": []
   },
   "source": [
    "* **Data Visualizations, Feature Engineering, EDA & Statistical Analysis.**"
   ]
  },
  {
   "cell_type": "code",
   "execution_count": 20,
   "id": "32d4392f",
   "metadata": {
    "execution": {
     "iopub.execute_input": "2023-07-14T05:38:15.165332Z",
     "iopub.status.busy": "2023-07-14T05:38:15.164328Z",
     "iopub.status.idle": "2023-07-14T05:38:15.580397Z",
     "shell.execute_reply": "2023-07-14T05:38:15.579468Z"
    },
    "papermill": {
     "duration": 0.43952,
     "end_time": "2023-07-14T05:38:15.582713",
     "exception": false,
     "start_time": "2023-07-14T05:38:15.143193",
     "status": "completed"
    },
    "tags": []
   },
   "outputs": [
    {
     "data": {
      "text/plain": [
       "<Axes: ylabel='col_1'>"
      ]
     },
     "execution_count": 20,
     "metadata": {},
     "output_type": "execute_result"
    },
    {
     "data": {
      "image/png": "[encoded data removed]",
      "text/plain": [
       "<Figure size 1000x1000 with 1 Axes>"
      ]
     },
     "metadata": {},
     "output_type": "display_data"
    }
   ],
   "source": [
    "# Show the col_1 using in Dataset\n",
    "\n",
    "plt.figure(figsize=(10,10))\n",
    "\n",
    "\n",
    "train['col_1'].value_counts().plot.pie(autopct='%1.1f%%',shadow=True)"
   ]
  },
  {
   "cell_type": "code",
   "execution_count": 21,
   "id": "37ccebf1",
   "metadata": {
    "execution": {
     "iopub.execute_input": "2023-07-14T05:38:15.628584Z",
     "iopub.status.busy": "2023-07-14T05:38:15.627013Z",
     "iopub.status.idle": "2023-07-14T05:38:17.087824Z",
     "shell.execute_reply": "2023-07-14T05:38:17.086879Z"
    },
    "papermill": {
     "duration": 1.48566,
     "end_time": "2023-07-14T05:38:17.090008",
     "exception": false,
     "start_time": "2023-07-14T05:38:15.604348",
     "status": "completed"
    },
    "tags": []
   },
   "outputs": [
    {
     "data": {
      "text/plain": [
       "<Axes: ylabel='col_2'>"
      ]
     },
     "execution_count": 21,
     "metadata": {},
     "output_type": "execute_result"
    },
    {
     "data": {
      "image/png": "[encoded data removed]",
      "text/plain": [
       "<Figure size 800x500 with 1 Axes>"
      ]
     },
     "metadata": {},
     "output_type": "display_data"
    }
   ],
   "source": [
    "# Show the col_2 using in Dataset\n",
    "\n",
    "plt.figure(figsize=(8,5))\n",
    "\n",
    "\n",
    "train['col_2'].value_counts().plot.pie(autopct='%1.1f%%',shadow=True)"
   ]
  },
  {
   "cell_type": "code",
   "execution_count": 22,
   "id": "8b335527",
   "metadata": {
    "execution": {
     "iopub.execute_input": "2023-07-14T05:38:17.136979Z",
     "iopub.status.busy": "2023-07-14T05:38:17.136679Z",
     "iopub.status.idle": "2023-07-14T05:38:18.569995Z",
     "shell.execute_reply": "2023-07-14T05:38:18.569063Z"
    },
    "papermill": {
     "duration": 1.4591,
     "end_time": "2023-07-14T05:38:18.572348",
     "exception": false,
     "start_time": "2023-07-14T05:38:17.113248",
     "status": "completed"
    },
    "tags": []
   },
   "outputs": [
    {
     "data": {
      "text/plain": [
       "<Axes: ylabel='col_3'>"
      ]
     },
     "execution_count": 22,
     "metadata": {},
     "output_type": "execute_result"
    },
    {
     "data": {
      "image/png": "[encoded data removed]",
      "text/plain": [
       "<Figure size 800x500 with 1 Axes>"
      ]
     },
     "metadata": {},
     "output_type": "display_data"
    }
   ],
   "source": [
    "# Show the percentage col_3 in Dataset\n",
    "\n",
    "plt.figure(figsize=(8,5))\n",
    "\n",
    "train['col_3'].value_counts().plot.pie(autopct='%1.1f%%',shadow=True)"
   ]
  },
  {
   "cell_type": "code",
   "execution_count": 23,
   "id": "e525adbd",
   "metadata": {
    "execution": {
     "iopub.execute_input": "2023-07-14T05:38:18.621679Z",
     "iopub.status.busy": "2023-07-14T05:38:18.620808Z",
     "iopub.status.idle": "2023-07-14T05:38:18.806178Z",
     "shell.execute_reply": "2023-07-14T05:38:18.801817Z"
    },
    "papermill": {
     "duration": 0.221884,
     "end_time": "2023-07-14T05:38:18.818192",
     "exception": false,
     "start_time": "2023-07-14T05:38:18.596308",
     "status": "completed"
    },
    "tags": []
   },
   "outputs": [
    {
     "data": {
      "text/plain": [
       "<Axes: ylabel='col_4'>"
      ]
     },
     "execution_count": 23,
     "metadata": {},
     "output_type": "execute_result"
    },
    {
     "data": {
      "image/png": "[encoded data removed]",
      "text/plain": [
       "<Figure size 800x500 with 1 Axes>"
      ]
     },
     "metadata": {},
     "output_type": "display_data"
    }
   ],
   "source": [
    "# Show the percentage col_4 in Dataset\n",
    "\n",
    "plt.figure(figsize=(8,5))\n",
    "\n",
    "train['col_4'].value_counts().plot.pie(autopct='%1.1f%%',shadow=True)"
   ]
  },
  {
   "cell_type": "code",
   "execution_count": 24,
   "id": "b6975814",
   "metadata": {
    "execution": {
     "iopub.execute_input": "2023-07-14T05:38:18.896569Z",
     "iopub.status.busy": "2023-07-14T05:38:18.896217Z",
     "iopub.status.idle": "2023-07-14T05:38:20.040295Z",
     "shell.execute_reply": "2023-07-14T05:38:20.039344Z"
    },
    "papermill": {
     "duration": 1.171433,
     "end_time": "2023-07-14T05:38:20.042522",
     "exception": false,
     "start_time": "2023-07-14T05:38:18.871089",
     "status": "completed"
    },
    "tags": []
   },
   "outputs": [
    {
     "data": {
      "text/plain": [
       "<Axes: ylabel='col_5'>"
      ]
     },
     "execution_count": 24,
     "metadata": {},
     "output_type": "execute_result"
    },
    {
     "data": {
      "image/png": "[encoded data removed]",
      "text/plain": [
       "<Figure size 900x500 with 1 Axes>"
      ]
     },
     "metadata": {},
     "output_type": "display_data"
    }
   ],
   "source": [
    "# Show the percentage col_5 in Dataset\n",
    "\n",
    "plt.figure(figsize=(9,5))\n",
    "\n",
    "train['col_5'].value_counts().plot.pie(autopct='%1.1f%%',shadow=True)"
   ]
  },
  {
   "cell_type": "code",
   "execution_count": 25,
   "id": "8dc309f4",
   "metadata": {
    "execution": {
     "iopub.execute_input": "2023-07-14T05:38:20.101177Z",
     "iopub.status.busy": "2023-07-14T05:38:20.100839Z",
     "iopub.status.idle": "2023-07-14T05:38:20.532988Z",
     "shell.execute_reply": "2023-07-14T05:38:20.532056Z"
    },
    "papermill": {
     "duration": 0.468989,
     "end_time": "2023-07-14T05:38:20.536329",
     "exception": false,
     "start_time": "2023-07-14T05:38:20.067340",
     "status": "completed"
    },
    "tags": []
   },
   "outputs": [
    {
     "data": {
      "text/plain": [
       "<Axes: ylabel='col_6'>"
      ]
     },
     "execution_count": 25,
     "metadata": {},
     "output_type": "execute_result"
    },
    {
     "data": {
      "image/png": "[encoded data removed]",
      "text/plain": [
       "<Figure size 900x800 with 1 Axes>"
      ]
     },
     "metadata": {},
     "output_type": "display_data"
    }
   ],
   "source": [
    "# Show the percentage col_6 in Dataset\n",
    "\n",
    "plt.figure(figsize=(9,8))\n",
    "\n",
    "train['col_6'].value_counts().plot.pie(autopct='%1.1f%%',shadow=True)"
   ]
  },
  {
   "cell_type": "markdown",
   "id": "65aadf4c",
   "metadata": {
    "papermill": {
     "duration": 0.026431,
     "end_time": "2023-07-14T05:38:20.592986",
     "exception": false,
     "start_time": "2023-07-14T05:38:20.566555",
     "status": "completed"
    },
    "tags": []
   },
   "source": [
    "Feature Engineering;"
   ]
  },
  {
   "cell_type": "code",
   "execution_count": 26,
   "id": "930a65e7",
   "metadata": {
    "execution": {
     "iopub.execute_input": "2023-07-14T05:38:20.655642Z",
     "iopub.status.busy": "2023-07-14T05:38:20.655252Z",
     "iopub.status.idle": "2023-07-14T05:38:20.660301Z",
     "shell.execute_reply": "2023-07-14T05:38:20.659275Z"
    },
    "papermill": {
     "duration": 0.040112,
     "end_time": "2023-07-14T05:38:20.662713",
     "exception": false,
     "start_time": "2023-07-14T05:38:20.622601",
     "status": "completed"
    },
    "tags": []
   },
   "outputs": [],
   "source": [
    "ntrain = train.shape[0]\n",
    "\n",
    "ntest = test.shape[0]"
   ]
  },
  {
   "cell_type": "code",
   "execution_count": 27,
   "id": "2be54b97",
   "metadata": {
    "execution": {
     "iopub.execute_input": "2023-07-14T05:38:20.717741Z",
     "iopub.status.busy": "2023-07-14T05:38:20.717442Z",
     "iopub.status.idle": "2023-07-14T05:38:20.728539Z",
     "shell.execute_reply": "2023-07-14T05:38:20.727474Z"
    },
    "papermill": {
     "duration": 0.040415,
     "end_time": "2023-07-14T05:38:20.730891",
     "exception": false,
     "start_time": "2023-07-14T05:38:20.690476",
     "status": "completed"
    },
    "tags": []
   },
   "outputs": [
    {
     "name": "stdout",
     "output_type": "stream",
     "text": [
      "all_data size is : (3755, 7)\n"
     ]
    }
   ],
   "source": [
    "y_train = train.y.values\n",
    "\n",
    "all_data = pd.concat((train, test)).reset_index(drop=True)\n",
    "\n",
    "all_data.drop(['y'], axis=1, inplace=True)\n",
    "print(\"all_data size is : {}\".format(all_data.shape))"
   ]
  },
  {
   "cell_type": "code",
   "execution_count": 28,
   "id": "1bef00d0",
   "metadata": {
    "execution": {
     "iopub.execute_input": "2023-07-14T05:38:20.785707Z",
     "iopub.status.busy": "2023-07-14T05:38:20.785370Z",
     "iopub.status.idle": "2023-07-14T05:38:20.805404Z",
     "shell.execute_reply": "2023-07-14T05:38:20.804419Z"
    },
    "papermill": {
     "duration": 0.050572,
     "end_time": "2023-07-14T05:38:20.807467",
     "exception": false,
     "start_time": "2023-07-14T05:38:20.756895",
     "status": "completed"
    },
    "tags": []
   },
   "outputs": [
    {
     "data": {
      "text/html": [
       "<div>\n",
       "<style scoped>\n",
       "    .dataframe tbody tr th:only-of-type {\n",
       "        vertical-align: middle;\n",
       "    }\n",
       "\n",
       "    .dataframe tbody tr th {\n",
       "        vertical-align: top;\n",
       "    }\n",
       "\n",
       "    .dataframe thead th {\n",
       "        text-align: right;\n",
       "    }\n",
       "</style>\n",
       "<table border=\"1\" class=\"dataframe\">\n",
       "  <thead>\n",
       "    <tr style=\"text-align: right;\">\n",
       "      <th></th>\n",
       "      <th>Missing Ratio</th>\n",
       "    </tr>\n",
       "  </thead>\n",
       "  <tbody>\n",
       "    <tr>\n",
       "      <th>col_0</th>\n",
       "      <td>5.486</td>\n",
       "    </tr>\n",
       "    <tr>\n",
       "      <th>col_6</th>\n",
       "      <td>4.261</td>\n",
       "    </tr>\n",
       "    <tr>\n",
       "      <th>col_1</th>\n",
       "      <td>3.196</td>\n",
       "    </tr>\n",
       "  </tbody>\n",
       "</table>\n",
       "</div>"
      ],
      "text/plain": [
       "       Missing Ratio\n",
       "col_0          5.486\n",
       "col_6          4.261\n",
       "col_1          3.196"
      ]
     },
     "execution_count": 28,
     "metadata": {},
     "output_type": "execute_result"
    }
   ],
   "source": [
    "#Missing Data cheaking\n",
    "\n",
    "all_data_na = (all_data.isnull().sum() / len(all_data)) * 100\n",
    "all_data_na = all_data_na.drop(all_data_na[all_data_na == 0].index).sort_values(ascending=False)[:30]\n",
    "missing_data = pd.DataFrame({'Missing Ratio' :all_data_na})\n",
    "missing_data.head()"
   ]
  },
  {
   "cell_type": "code",
   "execution_count": 29,
   "id": "4c698f55",
   "metadata": {
    "execution": {
     "iopub.execute_input": "2023-07-14T05:38:20.861676Z",
     "iopub.status.busy": "2023-07-14T05:38:20.860860Z",
     "iopub.status.idle": "2023-07-14T05:38:21.164932Z",
     "shell.execute_reply": "2023-07-14T05:38:21.163967Z"
    },
    "papermill": {
     "duration": 0.334765,
     "end_time": "2023-07-14T05:38:21.168820",
     "exception": false,
     "start_time": "2023-07-14T05:38:20.834055",
     "status": "completed"
    },
    "tags": []
   },
   "outputs": [
    {
     "data": {
      "text/plain": [
       "Text(0.5, 1.0, 'Percent missing data by feature')"
      ]
     },
     "execution_count": 29,
     "metadata": {},
     "output_type": "execute_result"
    },
    {
     "data": {
      "image/png": "[encoded data removed]",
      "text/plain": [
       "<Figure size 1000x800 with 1 Axes>"
      ]
     },
     "metadata": {},
     "output_type": "display_data"
    }
   ],
   "source": [
    "#Plotting the Missing Data Ratio\n",
    "f, ax = plt.subplots(figsize=(10, 8))\n",
    "plt.xticks(rotation='vertical')\n",
    "sns.barplot(x=all_data_na.index, y=all_data_na)\n",
    "plt.xlabel('Features', fontsize=15)\n",
    "plt.ylabel('Percent of missing values', fontsize=15)\n",
    "plt.title('Percent missing data by feature', fontsize=15)"
   ]
  },
  {
   "cell_type": "code",
   "execution_count": 30,
   "id": "13f91950",
   "metadata": {
    "execution": {
     "iopub.execute_input": "2023-07-14T05:38:21.230517Z",
     "iopub.status.busy": "2023-07-14T05:38:21.230137Z",
     "iopub.status.idle": "2023-07-14T05:38:21.520097Z",
     "shell.execute_reply": "2023-07-14T05:38:21.519176Z"
    },
    "papermill": {
     "duration": 0.322087,
     "end_time": "2023-07-14T05:38:21.522175",
     "exception": false,
     "start_time": "2023-07-14T05:38:21.200088",
     "status": "completed"
    },
    "tags": []
   },
   "outputs": [
    {
     "data": {
      "text/plain": [
       "<Axes: >"
      ]
     },
     "execution_count": 30,
     "metadata": {},
     "output_type": "execute_result"
    },
    {
     "data": {
      "image/png": "[encoded data removed]",
      "text/plain": [
       "<Figure size 900x1000 with 2 Axes>"
      ]
     },
     "metadata": {},
     "output_type": "display_data"
    }
   ],
   "source": [
    "#Data Correlation\n",
    "#Correlation map to see how features are correlated with y\n",
    "\n",
    "corrmat = train.corr()\n",
    "plt.subplots(figsize=(9,10))\n",
    "sns.heatmap(corrmat, vmax=0.9, square=True)"
   ]
  },
  {
   "cell_type": "code",
   "execution_count": 31,
   "id": "b8a36b88",
   "metadata": {
    "execution": {
     "iopub.execute_input": "2023-07-14T05:38:21.577329Z",
     "iopub.status.busy": "2023-07-14T05:38:21.576999Z",
     "iopub.status.idle": "2023-07-14T05:38:21.585675Z",
     "shell.execute_reply": "2023-07-14T05:38:21.584819Z"
    },
    "papermill": {
     "duration": 0.038355,
     "end_time": "2023-07-14T05:38:21.587696",
     "exception": false,
     "start_time": "2023-07-14T05:38:21.549341",
     "status": "completed"
    },
    "tags": []
   },
   "outputs": [],
   "source": [
    "#Missing Value Treatment ; Imputing missing values\n",
    "for col in ('col_0', 'col_1', 'col_6'):\n",
    "    all_data[col] = all_data[col].fillna('None')"
   ]
  },
  {
   "cell_type": "markdown",
   "id": "83c8684c",
   "metadata": {
    "papermill": {
     "duration": 0.026753,
     "end_time": "2023-07-14T05:38:21.641010",
     "exception": false,
     "start_time": "2023-07-14T05:38:21.614257",
     "status": "completed"
    },
    "tags": []
   },
   "source": [
    "->Is there any remaining missing value ?"
   ]
  },
  {
   "cell_type": "code",
   "execution_count": 32,
   "id": "c5e5cbe2",
   "metadata": {
    "execution": {
     "iopub.execute_input": "2023-07-14T05:38:21.696090Z",
     "iopub.status.busy": "2023-07-14T05:38:21.695310Z",
     "iopub.status.idle": "2023-07-14T05:38:21.713048Z",
     "shell.execute_reply": "2023-07-14T05:38:21.712096Z"
    },
    "papermill": {
     "duration": 0.04744,
     "end_time": "2023-07-14T05:38:21.714966",
     "exception": false,
     "start_time": "2023-07-14T05:38:21.667526",
     "status": "completed"
    },
    "tags": []
   },
   "outputs": [
    {
     "data": {
      "text/html": [
       "<div>\n",
       "<style scoped>\n",
       "    .dataframe tbody tr th:only-of-type {\n",
       "        vertical-align: middle;\n",
       "    }\n",
       "\n",
       "    .dataframe tbody tr th {\n",
       "        vertical-align: top;\n",
       "    }\n",
       "\n",
       "    .dataframe thead th {\n",
       "        text-align: right;\n",
       "    }\n",
       "</style>\n",
       "<table border=\"1\" class=\"dataframe\">\n",
       "  <thead>\n",
       "    <tr style=\"text-align: right;\">\n",
       "      <th></th>\n",
       "      <th>Missing Ratio</th>\n",
       "    </tr>\n",
       "  </thead>\n",
       "  <tbody>\n",
       "  </tbody>\n",
       "</table>\n",
       "</div>"
      ],
      "text/plain": [
       "Empty DataFrame\n",
       "Columns: [Missing Ratio]\n",
       "Index: []"
      ]
     },
     "execution_count": 32,
     "metadata": {},
     "output_type": "execute_result"
    }
   ],
   "source": [
    "#Check remaining missing values if any \n",
    "all_data_na = (all_data.isnull().sum() / len(all_data)) * 100\n",
    "\n",
    "all_data_na = all_data_na.drop(all_data_na[all_data_na == 0].index).sort_values(ascending=False)\n",
    "\n",
    "missing_data = pd.DataFrame({'Missing Ratio' :all_data_na})\n",
    "missing_data.head()"
   ]
  },
  {
   "cell_type": "markdown",
   "id": "db09b133",
   "metadata": {
    "papermill": {
     "duration": 0.0278,
     "end_time": "2023-07-14T05:38:21.770332",
     "exception": false,
     "start_time": "2023-07-14T05:38:21.742532",
     "status": "completed"
    },
    "tags": []
   },
   "source": [
    "It remains no missing value"
   ]
  },
  {
   "cell_type": "markdown",
   "id": "b85d15b3",
   "metadata": {
    "papermill": {
     "duration": 0.027072,
     "end_time": "2023-07-14T05:38:21.824523",
     "exception": false,
     "start_time": "2023-07-14T05:38:21.797451",
     "status": "completed"
    },
    "tags": []
   },
   "source": [
    "->Label Encoding some categorical variables that may contain information in their ordering set"
   ]
  },
  {
   "cell_type": "code",
   "execution_count": 33,
   "id": "c7dd398d",
   "metadata": {
    "execution": {
     "iopub.execute_input": "2023-07-14T05:38:21.880457Z",
     "iopub.status.busy": "2023-07-14T05:38:21.879608Z",
     "iopub.status.idle": "2023-07-14T05:38:21.916854Z",
     "shell.execute_reply": "2023-07-14T05:38:21.915963Z"
    },
    "papermill": {
     "duration": 0.06774,
     "end_time": "2023-07-14T05:38:21.919014",
     "exception": false,
     "start_time": "2023-07-14T05:38:21.851274",
     "status": "completed"
    },
    "tags": []
   },
   "outputs": [],
   "source": [
    "cols = ('col_0','col_1','col_2','col_3','col_5','col_6')\n",
    "# process columns, apply LabelEncoder to categorical features\n",
    "for c in cols:\n",
    "    lbl = LabelEncoder() \n",
    "    lbl.fit(list(all_data[c].values)) \n",
    "    all_data[c] = lbl.transform(list(all_data[c].values))"
   ]
  },
  {
   "cell_type": "code",
   "execution_count": 34,
   "id": "8458cd91",
   "metadata": {
    "execution": {
     "iopub.execute_input": "2023-07-14T05:38:21.974886Z",
     "iopub.status.busy": "2023-07-14T05:38:21.973985Z",
     "iopub.status.idle": "2023-07-14T05:38:21.980238Z",
     "shell.execute_reply": "2023-07-14T05:38:21.978805Z"
    },
    "papermill": {
     "duration": 0.036227,
     "end_time": "2023-07-14T05:38:21.982267",
     "exception": false,
     "start_time": "2023-07-14T05:38:21.946040",
     "status": "completed"
    },
    "tags": []
   },
   "outputs": [
    {
     "name": "stdout",
     "output_type": "stream",
     "text": [
      "Shape all_data: (3755, 7)\n"
     ]
    }
   ],
   "source": [
    "print('Shape all_data: {}'.format(all_data.shape))"
   ]
  },
  {
   "cell_type": "markdown",
   "id": "299e72fa",
   "metadata": {
    "papermill": {
     "duration": 0.026939,
     "end_time": "2023-07-14T05:38:22.035972",
     "exception": false,
     "start_time": "2023-07-14T05:38:22.009033",
     "status": "completed"
    },
    "tags": []
   },
   "source": [
    " Statistical Analysis;"
   ]
  },
  {
   "cell_type": "code",
   "execution_count": 35,
   "id": "f3abfde2",
   "metadata": {
    "execution": {
     "iopub.execute_input": "2023-07-14T05:38:22.092462Z",
     "iopub.status.busy": "2023-07-14T05:38:22.091632Z",
     "iopub.status.idle": "2023-07-14T05:38:22.107891Z",
     "shell.execute_reply": "2023-07-14T05:38:22.106996Z"
    },
    "papermill": {
     "duration": 0.046316,
     "end_time": "2023-07-14T05:38:22.109794",
     "exception": false,
     "start_time": "2023-07-14T05:38:22.063478",
     "status": "completed"
    },
    "tags": []
   },
   "outputs": [
    {
     "name": "stdout",
     "output_type": "stream",
     "text": [
      "\n",
      "Skew in numerical features: \n",
      "\n"
     ]
    },
    {
     "data": {
      "text/html": [
       "<div>\n",
       "<style scoped>\n",
       "    .dataframe tbody tr th:only-of-type {\n",
       "        vertical-align: middle;\n",
       "    }\n",
       "\n",
       "    .dataframe tbody tr th {\n",
       "        vertical-align: top;\n",
       "    }\n",
       "\n",
       "    .dataframe thead th {\n",
       "        text-align: right;\n",
       "    }\n",
       "</style>\n",
       "<table border=\"1\" class=\"dataframe\">\n",
       "  <thead>\n",
       "    <tr style=\"text-align: right;\">\n",
       "      <th></th>\n",
       "      <th>Skew</th>\n",
       "    </tr>\n",
       "  </thead>\n",
       "  <tbody>\n",
       "    <tr>\n",
       "      <th>col_1</th>\n",
       "      <td>3.538</td>\n",
       "    </tr>\n",
       "    <tr>\n",
       "      <th>col_5</th>\n",
       "      <td>2.903</td>\n",
       "    </tr>\n",
       "    <tr>\n",
       "      <th>col_3</th>\n",
       "      <td>2.865</td>\n",
       "    </tr>\n",
       "    <tr>\n",
       "      <th>col_2</th>\n",
       "      <td>1.377</td>\n",
       "    </tr>\n",
       "    <tr>\n",
       "      <th>col_4</th>\n",
       "      <td>0.149</td>\n",
       "    </tr>\n",
       "    <tr>\n",
       "      <th>col_0</th>\n",
       "      <td>-0.070</td>\n",
       "    </tr>\n",
       "    <tr>\n",
       "      <th>col_6</th>\n",
       "      <td>-1.775</td>\n",
       "    </tr>\n",
       "  </tbody>\n",
       "</table>\n",
       "</div>"
      ],
      "text/plain": [
       "        Skew\n",
       "col_1  3.538\n",
       "col_5  2.903\n",
       "col_3  2.865\n",
       "col_2  1.377\n",
       "col_4  0.149\n",
       "col_0 -0.070\n",
       "col_6 -1.775"
      ]
     },
     "execution_count": 35,
     "metadata": {},
     "output_type": "execute_result"
    }
   ],
   "source": [
    "#Skewed features of the dataset\n",
    "numeric_feats = all_data.dtypes[all_data.dtypes != \"object\"].index\n",
    "\n",
    "# Check the skew of all numerical features\n",
    "skewed_feats = all_data[numeric_feats].apply(lambda x: skew(x.dropna())).sort_values(ascending=False)\n",
    "print(\"\\nSkew in numerical features: \\n\")\n",
    "skewness = pd.DataFrame({'Skew' :skewed_feats})\n",
    "skewness.head(10)\n"
   ]
  },
  {
   "cell_type": "markdown",
   "id": "909be9e0",
   "metadata": {
    "papermill": {
     "duration": 0.030087,
     "end_time": "2023-07-14T05:38:22.167906",
     "exception": false,
     "start_time": "2023-07-14T05:38:22.137819",
     "status": "completed"
    },
    "tags": []
   },
   "source": [
    "Box Cox Transformation of (highly) skewed features;\n",
    "We use the scipy function boxcox1p which computes the Box-Cox transformation of  1+x\n",
    " .\n",
    "\n",
    "Note that setting  λ=0\n",
    "  is equivalent to log1p used above for the target variable."
   ]
  },
  {
   "cell_type": "code",
   "execution_count": 36,
   "id": "d761d76f",
   "metadata": {
    "execution": {
     "iopub.execute_input": "2023-07-14T05:38:22.223852Z",
     "iopub.status.busy": "2023-07-14T05:38:22.223534Z",
     "iopub.status.idle": "2023-07-14T05:38:22.240139Z",
     "shell.execute_reply": "2023-07-14T05:38:22.239260Z"
    },
    "papermill": {
     "duration": 0.047426,
     "end_time": "2023-07-14T05:38:22.242455",
     "exception": false,
     "start_time": "2023-07-14T05:38:22.195029",
     "status": "completed"
    },
    "tags": []
   },
   "outputs": [
    {
     "name": "stdout",
     "output_type": "stream",
     "text": [
      "There are 7 skewed numerical features to Box Cox transform\n"
     ]
    }
   ],
   "source": [
    "skewness = skewness[abs(skewness) > 0.75]\n",
    "print(\"There are {} skewed numerical features to Box Cox transform\".format(skewness.shape[0]))\n",
    "\n",
    "from scipy.special import boxcox1p\n",
    "skewed_features = skewness.index\n",
    "lam = 0.15\n",
    "for feat in skewed_features:\n",
    "    #all_data[feat] += 1\n",
    "    all_data[feat] = boxcox1p(all_data[feat], lam)"
   ]
  },
  {
   "cell_type": "markdown",
   "id": "24ca2ce5",
   "metadata": {
    "papermill": {
     "duration": 0.026983,
     "end_time": "2023-07-14T05:38:22.296359",
     "exception": false,
     "start_time": "2023-07-14T05:38:22.269376",
     "status": "completed"
    },
    "tags": []
   },
   "source": [
    "> Getting dummy categorical features"
   ]
  },
  {
   "cell_type": "code",
   "execution_count": 37,
   "id": "186083c5",
   "metadata": {
    "execution": {
     "iopub.execute_input": "2023-07-14T05:38:22.352030Z",
     "iopub.status.busy": "2023-07-14T05:38:22.351470Z",
     "iopub.status.idle": "2023-07-14T05:38:22.358797Z",
     "shell.execute_reply": "2023-07-14T05:38:22.357670Z"
    },
    "papermill": {
     "duration": 0.037539,
     "end_time": "2023-07-14T05:38:22.360834",
     "exception": false,
     "start_time": "2023-07-14T05:38:22.323295",
     "status": "completed"
    },
    "tags": []
   },
   "outputs": [
    {
     "name": "stdout",
     "output_type": "stream",
     "text": [
      "(3755, 7)\n"
     ]
    }
   ],
   "source": [
    "all_data = pd.get_dummies(all_data)\n",
    "\n",
    "print(all_data.shape)"
   ]
  },
  {
   "cell_type": "markdown",
   "id": "feba603b",
   "metadata": {
    "papermill": {
     "duration": 0.029503,
     "end_time": "2023-07-14T05:38:22.420391",
     "exception": false,
     "start_time": "2023-07-14T05:38:22.390888",
     "status": "completed"
    },
    "tags": []
   },
   "source": [
    "* **Datasets Pre-Processing & Split the Dataset for Machine Learning Models Training.**"
   ]
  },
  {
   "cell_type": "code",
   "execution_count": 38,
   "id": "712dd7ad",
   "metadata": {
    "execution": {
     "iopub.execute_input": "2023-07-14T05:38:22.476702Z",
     "iopub.status.busy": "2023-07-14T05:38:22.475862Z",
     "iopub.status.idle": "2023-07-14T05:38:22.481244Z",
     "shell.execute_reply": "2023-07-14T05:38:22.480237Z"
    },
    "papermill": {
     "duration": 0.035545,
     "end_time": "2023-07-14T05:38:22.483225",
     "exception": false,
     "start_time": "2023-07-14T05:38:22.447680",
     "status": "completed"
    },
    "tags": []
   },
   "outputs": [],
   "source": [
    "#Getting the new train and test sets.\n",
    "train = all_data[:ntrain]\n",
    "\n",
    "test = all_data[ntrain:]"
   ]
  },
  {
   "cell_type": "markdown",
   "id": "e1dac3b3",
   "metadata": {
    "papermill": {
     "duration": 0.026919,
     "end_time": "2023-07-14T05:38:22.537135",
     "exception": false,
     "start_time": "2023-07-14T05:38:22.510216",
     "status": "completed"
    },
    "tags": []
   },
   "source": [
    "Define a cross validation strategy;\n",
    "\n",
    "We use the cross_val_score function of Sklearn. However this function has not a shuffle attribut, we add then one line of code, in order to shuffle the dataset prior to cross-validation"
   ]
  },
  {
   "cell_type": "code",
   "execution_count": 39,
   "id": "127963bf",
   "metadata": {
    "execution": {
     "iopub.execute_input": "2023-07-14T05:38:22.599945Z",
     "iopub.status.busy": "2023-07-14T05:38:22.599010Z",
     "iopub.status.idle": "2023-07-14T05:38:22.604894Z",
     "shell.execute_reply": "2023-07-14T05:38:22.604065Z"
    },
    "papermill": {
     "duration": 0.035922,
     "end_time": "2023-07-14T05:38:22.606858",
     "exception": false,
     "start_time": "2023-07-14T05:38:22.570936",
     "status": "completed"
    },
    "tags": []
   },
   "outputs": [],
   "source": [
    "#Validation function\n",
    "n_folds = 5\n",
    "\n",
    "def rmsle_cv(model):\n",
    "    kf = KFold(n_folds, shuffle=True, random_state=1234).get_n_splits(train.values)\n",
    "    rmse= np.sqrt(-cross_val_score(model, train.values, y_train, scoring=\"neg_mean_squared_error\", cv = kf))\n",
    "    return(rmse)"
   ]
  },
  {
   "cell_type": "markdown",
   "id": "2f424acf",
   "metadata": {
    "papermill": {
     "duration": 0.027974,
     "end_time": "2023-07-14T05:38:22.662240",
     "exception": false,
     "start_time": "2023-07-14T05:38:22.634266",
     "status": "completed"
    },
    "tags": []
   },
   "source": [
    "* **Machine Learning Model Performance Evaulation And Predictions on the Test Dataset.**"
   ]
  },
  {
   "cell_type": "markdown",
   "id": "9d480f3b",
   "metadata": {
    "papermill": {
     "duration": 0.027161,
     "end_time": "2023-07-14T05:38:22.717046",
     "exception": false,
     "start_time": "2023-07-14T05:38:22.689885",
     "status": "completed"
    },
    "tags": []
   },
   "source": [
    "1. Xgboost Regression Model with Hyperparameters Tuning."
   ]
  },
  {
   "cell_type": "code",
   "execution_count": 40,
   "id": "ce95b910",
   "metadata": {
    "execution": {
     "iopub.execute_input": "2023-07-14T05:38:22.774292Z",
     "iopub.status.busy": "2023-07-14T05:38:22.773917Z",
     "iopub.status.idle": "2023-07-14T05:38:22.779463Z",
     "shell.execute_reply": "2023-07-14T05:38:22.778402Z"
    },
    "papermill": {
     "duration": 0.037179,
     "end_time": "2023-07-14T05:38:22.781605",
     "exception": false,
     "start_time": "2023-07-14T05:38:22.744426",
     "status": "completed"
    },
    "tags": []
   },
   "outputs": [],
   "source": [
    "model_xgb = xgb.XGBRegressor(colsample_bytree=0.4603, gamma=0.0468, \n",
    "                             learning_rate=0.05, max_depth=5, \n",
    "                             min_child_weight=1.7817, n_estimators=1000,\n",
    "                             reg_alpha=0.4640, reg_lambda=0.8571,\n",
    "                             subsample=0.5213, silent=1,\n",
    "                             random_state =142, nthread = -1)"
   ]
  },
  {
   "cell_type": "code",
   "execution_count": 41,
   "id": "cfe3c97a",
   "metadata": {
    "execution": {
     "iopub.execute_input": "2023-07-14T05:38:22.838303Z",
     "iopub.status.busy": "2023-07-14T05:38:22.837507Z",
     "iopub.status.idle": "2023-07-14T05:38:27.781889Z",
     "shell.execute_reply": "2023-07-14T05:38:27.780854Z"
    },
    "papermill": {
     "duration": 4.975075,
     "end_time": "2023-07-14T05:38:27.784215",
     "exception": false,
     "start_time": "2023-07-14T05:38:22.809140",
     "status": "completed"
    },
    "tags": []
   },
   "outputs": [
    {
     "name": "stdout",
     "output_type": "stream",
     "text": [
      "[05:38:22] WARNING: ../src/learner.cc:767: \n",
      "Parameters: { \"silent\" } are not used.\n",
      "\n",
      "[05:38:23] WARNING: ../src/learner.cc:767: \n",
      "Parameters: { \"silent\" } are not used.\n",
      "\n",
      "[05:38:24] WARNING: ../src/learner.cc:767: \n",
      "Parameters: { \"silent\" } are not used.\n",
      "\n",
      "[05:38:25] WARNING: ../src/learner.cc:767: \n",
      "Parameters: { \"silent\" } are not used.\n",
      "\n",
      "[05:38:26] WARNING: ../src/learner.cc:767: \n",
      "Parameters: { \"silent\" } are not used.\n",
      "\n",
      "Xgboost score: 0.4043 (0.0189)\n",
      "\n"
     ]
    }
   ],
   "source": [
    "#Xgboost Model score\n",
    "score = rmsle_cv(model_xgb)\n",
    "print(\"Xgboost score: {:.4f} ({:.4f})\\n\".format(score.mean(), score.std()))"
   ]
  },
  {
   "cell_type": "markdown",
   "id": "8bd32a6b",
   "metadata": {
    "papermill": {
     "duration": 0.029943,
     "end_time": "2023-07-14T05:38:27.846256",
     "exception": false,
     "start_time": "2023-07-14T05:38:27.816313",
     "status": "completed"
    },
    "tags": []
   },
   "source": [
    "2. LGBM Regression Model with Hyperparameters Tuning."
   ]
  },
  {
   "cell_type": "code",
   "execution_count": 42,
   "id": "d9edf444",
   "metadata": {
    "execution": {
     "iopub.execute_input": "2023-07-14T05:38:27.904132Z",
     "iopub.status.busy": "2023-07-14T05:38:27.903099Z",
     "iopub.status.idle": "2023-07-14T05:38:27.909035Z",
     "shell.execute_reply": "2023-07-14T05:38:27.908121Z"
    },
    "papermill": {
     "duration": 0.036942,
     "end_time": "2023-07-14T05:38:27.911171",
     "exception": false,
     "start_time": "2023-07-14T05:38:27.874229",
     "status": "completed"
    },
    "tags": []
   },
   "outputs": [],
   "source": [
    "model_lgb = lgb.LGBMRegressor(objective='regression',num_leaves=5,\n",
    "                              learning_rate=0.05, n_estimators=1500,\n",
    "                              max_bin = 55, bagging_fraction = 0.8,\n",
    "                              bagging_freq = 5, feature_fraction = 0.2319,\n",
    "                              feature_fraction_seed=9, bagging_seed=9,\n",
    "                              min_data_in_leaf =6, min_sum_hessian_in_leaf = 11)"
   ]
  },
  {
   "cell_type": "code",
   "execution_count": 43,
   "id": "b53993ad",
   "metadata": {
    "execution": {
     "iopub.execute_input": "2023-07-14T05:38:27.967944Z",
     "iopub.status.busy": "2023-07-14T05:38:27.967662Z",
     "iopub.status.idle": "2023-07-14T05:38:31.099608Z",
     "shell.execute_reply": "2023-07-14T05:38:31.098845Z"
    },
    "papermill": {
     "duration": 3.162963,
     "end_time": "2023-07-14T05:38:31.101812",
     "exception": false,
     "start_time": "2023-07-14T05:38:27.938849",
     "status": "completed"
    },
    "tags": []
   },
   "outputs": [
    {
     "name": "stdout",
     "output_type": "stream",
     "text": [
      "[LightGBM] [Warning] bagging_fraction is set=0.8, subsample=1.0 will be ignored. Current value: bagging_fraction=0.8\n",
      "[LightGBM] [Warning] min_sum_hessian_in_leaf is set=11, min_child_weight=0.001 will be ignored. Current value: min_sum_hessian_in_leaf=11\n",
      "[LightGBM] [Warning] min_data_in_leaf is set=6, min_child_samples=20 will be ignored. Current value: min_data_in_leaf=6\n",
      "[LightGBM] [Warning] feature_fraction is set=0.2319, colsample_bytree=1.0 will be ignored. Current value: feature_fraction=0.2319\n",
      "[LightGBM] [Warning] bagging_freq is set=5, subsample_freq=0 will be ignored. Current value: bagging_freq=5\n",
      "[LightGBM] [Warning] bagging_fraction is set=0.8, subsample=1.0 will be ignored. Current value: bagging_fraction=0.8\n",
      "[LightGBM] [Warning] min_sum_hessian_in_leaf is set=11, min_child_weight=0.001 will be ignored. Current value: min_sum_hessian_in_leaf=11\n",
      "[LightGBM] [Warning] min_data_in_leaf is set=6, min_child_samples=20 will be ignored. Current value: min_data_in_leaf=6\n",
      "[LightGBM] [Warning] feature_fraction is set=0.2319, colsample_bytree=1.0 will be ignored. Current value: feature_fraction=0.2319\n",
      "[LightGBM] [Warning] bagging_freq is set=5, subsample_freq=0 will be ignored. Current value: bagging_freq=5\n",
      "[LightGBM] [Warning] bagging_fraction is set=0.8, subsample=1.0 will be ignored. Current value: bagging_fraction=0.8\n",
      "[LightGBM] [Warning] min_sum_hessian_in_leaf is set=11, min_child_weight=0.001 will be ignored. Current value: min_sum_hessian_in_leaf=11\n",
      "[LightGBM] [Warning] min_data_in_leaf is set=6, min_child_samples=20 will be ignored. Current value: min_data_in_leaf=6\n",
      "[LightGBM] [Warning] feature_fraction is set=0.2319, colsample_bytree=1.0 will be ignored. Current value: feature_fraction=0.2319\n",
      "[LightGBM] [Warning] bagging_freq is set=5, subsample_freq=0 will be ignored. Current value: bagging_freq=5\n",
      "[LightGBM] [Warning] bagging_fraction is set=0.8, subsample=1.0 will be ignored. Current value: bagging_fraction=0.8\n",
      "[LightGBM] [Warning] min_sum_hessian_in_leaf is set=11, min_child_weight=0.001 will be ignored. Current value: min_sum_hessian_in_leaf=11\n",
      "[LightGBM] [Warning] min_data_in_leaf is set=6, min_child_samples=20 will be ignored. Current value: min_data_in_leaf=6\n",
      "[LightGBM] [Warning] feature_fraction is set=0.2319, colsample_bytree=1.0 will be ignored. Current value: feature_fraction=0.2319\n",
      "[LightGBM] [Warning] bagging_freq is set=5, subsample_freq=0 will be ignored. Current value: bagging_freq=5\n",
      "[LightGBM] [Warning] bagging_fraction is set=0.8, subsample=1.0 will be ignored. Current value: bagging_fraction=0.8\n",
      "[LightGBM] [Warning] min_sum_hessian_in_leaf is set=11, min_child_weight=0.001 will be ignored. Current value: min_sum_hessian_in_leaf=11\n",
      "[LightGBM] [Warning] min_data_in_leaf is set=6, min_child_samples=20 will be ignored. Current value: min_data_in_leaf=6\n",
      "[LightGBM] [Warning] feature_fraction is set=0.2319, colsample_bytree=1.0 will be ignored. Current value: feature_fraction=0.2319\n",
      "[LightGBM] [Warning] bagging_freq is set=5, subsample_freq=0 will be ignored. Current value: bagging_freq=5\n",
      "LGBM score: 0.4077 (0.0195)\n",
      "\n"
     ]
    }
   ],
   "source": [
    "#LGBM model score\n",
    "score = rmsle_cv(model_lgb)\n",
    "\n",
    "print(\"LGBM score: {:.4f} ({:.4f})\\n\" .format(score.mean(), score.std()))"
   ]
  },
  {
   "cell_type": "markdown",
   "id": "cc67a2bc",
   "metadata": {
    "papermill": {
     "duration": 0.029071,
     "end_time": "2023-07-14T05:38:31.160771",
     "exception": false,
     "start_time": "2023-07-14T05:38:31.131700",
     "status": "completed"
    },
    "tags": []
   },
   "source": [
    "3. **Stacking averaged Models with Hyperparameters Tuning**."
   ]
  },
  {
   "cell_type": "code",
   "execution_count": 44,
   "id": "fe4581cc",
   "metadata": {
    "execution": {
     "iopub.execute_input": "2023-07-14T05:38:31.219325Z",
     "iopub.status.busy": "2023-07-14T05:38:31.218928Z",
     "iopub.status.idle": "2023-07-14T05:38:31.223895Z",
     "shell.execute_reply": "2023-07-14T05:38:31.222725Z"
    },
    "papermill": {
     "duration": 0.03662,
     "end_time": "2023-07-14T05:38:31.225963",
     "exception": false,
     "start_time": "2023-07-14T05:38:31.189343",
     "status": "completed"
    },
    "tags": []
   },
   "outputs": [],
   "source": [
    "#LASSO Regression\n",
    "\n",
    "lasso = make_pipeline(RobustScaler(), Lasso(alpha =0.0005, random_state=1))"
   ]
  },
  {
   "cell_type": "code",
   "execution_count": 45,
   "id": "a300d8d8",
   "metadata": {
    "execution": {
     "iopub.execute_input": "2023-07-14T05:38:31.292853Z",
     "iopub.status.busy": "2023-07-14T05:38:31.292529Z",
     "iopub.status.idle": "2023-07-14T05:38:31.350994Z",
     "shell.execute_reply": "2023-07-14T05:38:31.349906Z"
    },
    "papermill": {
     "duration": 0.096183,
     "end_time": "2023-07-14T05:38:31.354024",
     "exception": false,
     "start_time": "2023-07-14T05:38:31.257841",
     "status": "completed"
    },
    "tags": []
   },
   "outputs": [
    {
     "name": "stdout",
     "output_type": "stream",
     "text": [
      "\n",
      "Lasso score: 0.5014 (0.0382)\n",
      "\n"
     ]
    }
   ],
   "source": [
    "score = rmsle_cv(lasso)\n",
    "print(\"\\nLasso score: {:.4f} ({:.4f})\\n\".format(score.mean(), score.std()))"
   ]
  },
  {
   "cell_type": "code",
   "execution_count": 46,
   "id": "3c7bc22c",
   "metadata": {
    "execution": {
     "iopub.execute_input": "2023-07-14T05:38:31.480769Z",
     "iopub.status.busy": "2023-07-14T05:38:31.480448Z",
     "iopub.status.idle": "2023-07-14T05:38:31.485290Z",
     "shell.execute_reply": "2023-07-14T05:38:31.484333Z"
    },
    "papermill": {
     "duration": 0.069872,
     "end_time": "2023-07-14T05:38:31.487589",
     "exception": false,
     "start_time": "2023-07-14T05:38:31.417717",
     "status": "completed"
    },
    "tags": []
   },
   "outputs": [],
   "source": [
    "#Elastic Net Regression\n",
    "ENet = make_pipeline(RobustScaler(), ElasticNet(alpha=0.0005,\n",
    "                                                l1_ratio=.9, random_state=123))"
   ]
  },
  {
   "cell_type": "code",
   "execution_count": 47,
   "id": "9f0b5bb7",
   "metadata": {
    "execution": {
     "iopub.execute_input": "2023-07-14T05:38:31.546853Z",
     "iopub.status.busy": "2023-07-14T05:38:31.546584Z",
     "iopub.status.idle": "2023-07-14T05:38:31.603066Z",
     "shell.execute_reply": "2023-07-14T05:38:31.601755Z"
    },
    "papermill": {
     "duration": 0.089386,
     "end_time": "2023-07-14T05:38:31.606564",
     "exception": false,
     "start_time": "2023-07-14T05:38:31.517178",
     "status": "completed"
    },
    "tags": []
   },
   "outputs": [
    {
     "name": "stdout",
     "output_type": "stream",
     "text": [
      "ElasticNet score: 0.5014 (0.0382)\n",
      "\n"
     ]
    }
   ],
   "source": [
    "score = rmsle_cv(ENet)\n",
    "print(\"ElasticNet score: {:.4f} ({:.4f})\\n\".format(score.mean(), score.std()))"
   ]
  },
  {
   "cell_type": "code",
   "execution_count": 48,
   "id": "53a018db",
   "metadata": {
    "execution": {
     "iopub.execute_input": "2023-07-14T05:38:31.733461Z",
     "iopub.status.busy": "2023-07-14T05:38:31.733136Z",
     "iopub.status.idle": "2023-07-14T05:38:31.738053Z",
     "shell.execute_reply": "2023-07-14T05:38:31.737018Z"
    },
    "papermill": {
     "duration": 0.070385,
     "end_time": "2023-07-14T05:38:31.740382",
     "exception": false,
     "start_time": "2023-07-14T05:38:31.669997",
     "status": "completed"
    },
    "tags": []
   },
   "outputs": [],
   "source": [
    "#Kernel Ridge Regression\n",
    "KRR = KernelRidge(alpha=0.6, kernel='polynomial', degree=2,\n",
    "                  coef0=2.5)"
   ]
  },
  {
   "cell_type": "code",
   "execution_count": 49,
   "id": "72516ee0",
   "metadata": {
    "execution": {
     "iopub.execute_input": "2023-07-14T05:38:31.800142Z",
     "iopub.status.busy": "2023-07-14T05:38:31.799849Z",
     "iopub.status.idle": "2023-07-14T05:38:33.198305Z",
     "shell.execute_reply": "2023-07-14T05:38:33.196960Z"
    },
    "papermill": {
     "duration": 1.432974,
     "end_time": "2023-07-14T05:38:33.202262",
     "exception": false,
     "start_time": "2023-07-14T05:38:31.769288",
     "status": "completed"
    },
    "tags": []
   },
   "outputs": [
    {
     "name": "stdout",
     "output_type": "stream",
     "text": [
      "Kernel Ridge score: 0.4938 (0.0337)\n",
      "\n"
     ]
    }
   ],
   "source": [
    "score = rmsle_cv(KRR)\n",
    "print(\"Kernel Ridge score: {:.4f} ({:.4f})\\n\".format(score.mean(), score.std()))"
   ]
  },
  {
   "cell_type": "code",
   "execution_count": 50,
   "id": "b08ecafe",
   "metadata": {
    "execution": {
     "iopub.execute_input": "2023-07-14T05:38:33.345598Z",
     "iopub.status.busy": "2023-07-14T05:38:33.345252Z",
     "iopub.status.idle": "2023-07-14T05:38:33.350409Z",
     "shell.execute_reply": "2023-07-14T05:38:33.349493Z"
    },
    "papermill": {
     "duration": 0.042032,
     "end_time": "2023-07-14T05:38:33.352510",
     "exception": false,
     "start_time": "2023-07-14T05:38:33.310478",
     "status": "completed"
    },
    "tags": []
   },
   "outputs": [],
   "source": [
    "#Gradient Boosting Regression\n",
    "\n",
    "GBoost = GradientBoostingRegressor(n_estimators=1000, learning_rate=0.05,\n",
    "                                   max_depth=4, max_features='sqrt',\n",
    "                                   min_samples_leaf=15, min_samples_split=10, \n",
    "                                   loss='huber', random_state =142)"
   ]
  },
  {
   "cell_type": "code",
   "execution_count": 51,
   "id": "f0568363",
   "metadata": {
    "execution": {
     "iopub.execute_input": "2023-07-14T05:38:33.412008Z",
     "iopub.status.busy": "2023-07-14T05:38:33.411244Z",
     "iopub.status.idle": "2023-07-14T05:38:55.376621Z",
     "shell.execute_reply": "2023-07-14T05:38:55.375651Z"
    },
    "papermill": {
     "duration": 21.997896,
     "end_time": "2023-07-14T05:38:55.379443",
     "exception": false,
     "start_time": "2023-07-14T05:38:33.381547",
     "status": "completed"
    },
    "tags": []
   },
   "outputs": [
    {
     "name": "stdout",
     "output_type": "stream",
     "text": [
      "Gradient Boosting score: 0.4059 (0.0184)\n",
      "\n"
     ]
    }
   ],
   "source": [
    "score = rmsle_cv(GBoost)\n",
    "print(\"Gradient Boosting score: {:.4f} ({:.4f})\\n\".format(score.mean(), score.std()))"
   ]
  },
  {
   "cell_type": "markdown",
   "id": "9facfc7e",
   "metadata": {
    "papermill": {
     "duration": 0.028359,
     "end_time": "2023-07-14T05:38:55.440177",
     "exception": false,
     "start_time": "2023-07-14T05:38:55.411818",
     "status": "completed"
    },
    "tags": []
   },
   "source": [
    "->Averaged base models class"
   ]
  },
  {
   "cell_type": "code",
   "execution_count": 52,
   "id": "157efacd",
   "metadata": {
    "execution": {
     "iopub.execute_input": "2023-07-14T05:38:55.498952Z",
     "iopub.status.busy": "2023-07-14T05:38:55.498632Z",
     "iopub.status.idle": "2023-07-14T05:38:55.505834Z",
     "shell.execute_reply": "2023-07-14T05:38:55.504869Z"
    },
    "papermill": {
     "duration": 0.039011,
     "end_time": "2023-07-14T05:38:55.507928",
     "exception": false,
     "start_time": "2023-07-14T05:38:55.468917",
     "status": "completed"
    },
    "tags": []
   },
   "outputs": [],
   "source": [
    "class AveragingModels(BaseEstimator, RegressorMixin, TransformerMixin):\n",
    "    def __init__(self, models):\n",
    "        self.models = models\n",
    "        \n",
    "    # we define clones of the original models to fit the data in\n",
    "    def fit(self, X, y):\n",
    "        self.models_ = [clone(x) for x in self.models]\n",
    "        \n",
    "        # Train cloned base models\n",
    "        for model in self.models_:\n",
    "            model.fit(X, y)\n",
    "\n",
    "        return self\n",
    "    \n",
    "    #Now we do the predictions for cloned models and average them\n",
    "    def predict(self, X):\n",
    "        predictions = np.column_stack([\n",
    "            model.predict(X) for model in self.models_\n",
    "        ])\n",
    "        return np.mean(predictions, axis=1) "
   ]
  },
  {
   "cell_type": "code",
   "execution_count": 53,
   "id": "4da2441d",
   "metadata": {
    "execution": {
     "iopub.execute_input": "2023-07-14T05:38:55.566536Z",
     "iopub.status.busy": "2023-07-14T05:38:55.566247Z",
     "iopub.status.idle": "2023-07-14T05:39:19.906195Z",
     "shell.execute_reply": "2023-07-14T05:39:19.905245Z"
    },
    "papermill": {
     "duration": 24.373512,
     "end_time": "2023-07-14T05:39:19.910072",
     "exception": false,
     "start_time": "2023-07-14T05:38:55.536560",
     "status": "completed"
    },
    "tags": []
   },
   "outputs": [
    {
     "name": "stdout",
     "output_type": "stream",
     "text": [
      " Averaged base models score: 0.4535 (0.0324)\n",
      "\n"
     ]
    }
   ],
   "source": [
    "#Averaged base models score\n",
    "averaged_models = AveragingModels(models = (ENet, GBoost, KRR, lasso))\n",
    "\n",
    "score = rmsle_cv(averaged_models)\n",
    "print(\" Averaged base models score: {:.4f} ({:.4f})\\n\".format(score.mean(), score.std()))"
   ]
  },
  {
   "cell_type": "markdown",
   "id": "7e4eb590",
   "metadata": {
    "papermill": {
     "duration": 0.033488,
     "end_time": "2023-07-14T05:39:20.058098",
     "exception": false,
     "start_time": "2023-07-14T05:39:20.024610",
     "status": "completed"
    },
    "tags": []
   },
   "source": [
    "->Stacking averaged Models Class withlasso as meta-model."
   ]
  },
  {
   "cell_type": "code",
   "execution_count": 54,
   "id": "ad9d020d",
   "metadata": {
    "execution": {
     "iopub.execute_input": "2023-07-14T05:39:20.123920Z",
     "iopub.status.busy": "2023-07-14T05:39:20.123563Z",
     "iopub.status.idle": "2023-07-14T05:39:20.133827Z",
     "shell.execute_reply": "2023-07-14T05:39:20.132914Z"
    },
    "papermill": {
     "duration": 0.042553,
     "end_time": "2023-07-14T05:39:20.135901",
     "exception": false,
     "start_time": "2023-07-14T05:39:20.093348",
     "status": "completed"
    },
    "tags": []
   },
   "outputs": [],
   "source": [
    "class StackingAveragedModels(BaseEstimator, RegressorMixin, TransformerMixin):\n",
    "    def __init__(self, base_models, meta_model, n_folds=5):\n",
    "        self.base_models = base_models\n",
    "        self.meta_model = meta_model\n",
    "        self.n_folds = n_folds\n",
    "   \n",
    "    # We again fit the data on clones of the original models\n",
    "    def fit(self, X, y):\n",
    "        self.base_models_ = [list() for x in self.base_models]\n",
    "        self.meta_model_ = clone(self.meta_model)\n",
    "        kfold = KFold(n_splits=self.n_folds, shuffle=True, random_state=0)\n",
    "        \n",
    "        # Train cloned base models then create out-of-fold predictions\n",
    "        # that are needed to train the cloned meta-model\n",
    "        out_of_fold_predictions = np.zeros((X.shape[0], len(self.base_models)))\n",
    "        for i, model in enumerate(self.base_models):\n",
    "            for train_index, holdout_index in kfold.split(X, y):\n",
    "                instance = clone(model)\n",
    "                self.base_models_[i].append(instance)\n",
    "                instance.fit(X[train_index], y[train_index])\n",
    "                y_pred = instance.predict(X[holdout_index])\n",
    "                out_of_fold_predictions[holdout_index, i] = y_pred\n",
    "                \n",
    "        # Now train the cloned  meta-model using the out-of-fold predictions as new feature\n",
    "        self.meta_model_.fit(out_of_fold_predictions, y)\n",
    "        return self\n",
    "   \n",
    "    #Do the predictions of all base models on the test data and use the averaged predictions as \n",
    "    #meta-features for the final prediction which is done by the meta-model\n",
    "    def predict(self, X):\n",
    "        meta_features = np.column_stack([\n",
    "            np.column_stack([model.predict(X) for model in base_models]).mean(axis=1)\n",
    "            for base_models in self.base_models_ ])\n",
    "        return self.meta_model_.predict(meta_features)"
   ]
  },
  {
   "cell_type": "code",
   "execution_count": 55,
   "id": "b7f0e08f",
   "metadata": {
    "execution": {
     "iopub.execute_input": "2023-07-14T05:39:20.195336Z",
     "iopub.status.busy": "2023-07-14T05:39:20.194542Z",
     "iopub.status.idle": "2023-07-14T05:39:20.199406Z",
     "shell.execute_reply": "2023-07-14T05:39:20.198553Z"
    },
    "papermill": {
     "duration": 0.036277,
     "end_time": "2023-07-14T05:39:20.201313",
     "exception": false,
     "start_time": "2023-07-14T05:39:20.165036",
     "status": "completed"
    },
    "tags": []
   },
   "outputs": [],
   "source": [
    "stacked_averaged_models = StackingAveragedModels(base_models = (ENet, GBoost, KRR),\n",
    "                                                 meta_model = lasso)\n"
   ]
  },
  {
   "cell_type": "code",
   "execution_count": 56,
   "id": "8dcc0306",
   "metadata": {
    "execution": {
     "iopub.execute_input": "2023-07-14T05:39:20.299495Z",
     "iopub.status.busy": "2023-07-14T05:39:20.299129Z",
     "iopub.status.idle": "2023-07-14T05:41:08.568943Z",
     "shell.execute_reply": "2023-07-14T05:41:08.567567Z"
    },
    "papermill": {
     "duration": 108.377613,
     "end_time": "2023-07-14T05:41:08.625026",
     "exception": false,
     "start_time": "2023-07-14T05:39:20.247413",
     "status": "completed"
    },
    "tags": []
   },
   "outputs": [
    {
     "name": "stdout",
     "output_type": "stream",
     "text": [
      "Stacking Averaged models score: 0.4026 (0.0228)\n"
     ]
    }
   ],
   "source": [
    "score = rmsle_cv(stacked_averaged_models)\n",
    "print(\"Stacking Averaged models score: {:.4f} ({:.4f})\".format(score.mean(), score.std()))"
   ]
  },
  {
   "cell_type": "markdown",
   "id": "da72fa21",
   "metadata": {
    "papermill": {
     "duration": 0.02885,
     "end_time": "2023-07-14T05:41:08.707329",
     "exception": false,
     "start_time": "2023-07-14T05:41:08.678479",
     "status": "completed"
    },
    "tags": []
   },
   "source": [
    "4.  **Ensemble Stacking averaged Models with Hyperparameters Tuning.**\n",
    "\n",
    "Ensembling StackedRegressor, XGBoost and LightGBM; We add XGBoost and LightGBM to the StackedRegressor defined previously"
   ]
  },
  {
   "cell_type": "code",
   "execution_count": 57,
   "id": "98e4fe10",
   "metadata": {
    "execution": {
     "iopub.execute_input": "2023-07-14T05:41:08.766799Z",
     "iopub.status.busy": "2023-07-14T05:41:08.766453Z",
     "iopub.status.idle": "2023-07-14T05:41:08.771338Z",
     "shell.execute_reply": "2023-07-14T05:41:08.770272Z"
    },
    "papermill": {
     "duration": 0.037202,
     "end_time": "2023-07-14T05:41:08.773467",
     "exception": false,
     "start_time": "2023-07-14T05:41:08.736265",
     "status": "completed"
    },
    "tags": []
   },
   "outputs": [],
   "source": [
    "#We first define a rmsle evaluation function\n",
    "\n",
    "def rmsle(y, y_pred):\n",
    "    return np.sqrt(mean_squared_error(y, y_pred))"
   ]
  },
  {
   "cell_type": "markdown",
   "id": "b7a5bf5a",
   "metadata": {
    "papermill": {
     "duration": 0.028675,
     "end_time": "2023-07-14T05:41:08.831685",
     "exception": false,
     "start_time": "2023-07-14T05:41:08.803010",
     "status": "completed"
    },
    "tags": []
   },
   "source": [
    "6. **Final Model Selection & Predictions.**"
   ]
  },
  {
   "cell_type": "code",
   "execution_count": 58,
   "id": "514e111d",
   "metadata": {
    "execution": {
     "iopub.execute_input": "2023-07-14T05:41:08.890981Z",
     "iopub.status.busy": "2023-07-14T05:41:08.890060Z",
     "iopub.status.idle": "2023-07-14T05:41:33.617663Z",
     "shell.execute_reply": "2023-07-14T05:41:33.616137Z"
    },
    "papermill": {
     "duration": 24.760669,
     "end_time": "2023-07-14T05:41:33.620927",
     "exception": false,
     "start_time": "2023-07-14T05:41:08.860258",
     "status": "completed"
    },
    "tags": []
   },
   "outputs": [
    {
     "name": "stdout",
     "output_type": "stream",
     "text": [
      "0.34220818527738955\n"
     ]
    }
   ],
   "source": [
    "#StackedRegressor Score\n",
    "\n",
    "stacked_averaged_models.fit(train.values, y_train)\n",
    "\n",
    "stacked_train_pred = stacked_averaged_models.predict(train.values)\n",
    "\n",
    "stacked_pred = np.expm1(stacked_averaged_models.predict(test.values))\n",
    "\n",
    "print(rmsle(y_train, stacked_train_pred))"
   ]
  },
  {
   "cell_type": "code",
   "execution_count": 59,
   "id": "f4f9bcf1",
   "metadata": {
    "execution": {
     "iopub.execute_input": "2023-07-14T05:41:33.747230Z",
     "iopub.status.busy": "2023-07-14T05:41:33.746798Z",
     "iopub.status.idle": "2023-07-14T05:41:34.993016Z",
     "shell.execute_reply": "2023-07-14T05:41:34.992261Z"
    },
    "papermill": {
     "duration": 1.310985,
     "end_time": "2023-07-14T05:41:34.995389",
     "exception": false,
     "start_time": "2023-07-14T05:41:33.684404",
     "status": "completed"
    },
    "tags": []
   },
   "outputs": [
    {
     "name": "stdout",
     "output_type": "stream",
     "text": [
      "[05:41:33] WARNING: ../src/learner.cc:767: \n",
      "Parameters: { \"silent\" } are not used.\n",
      "\n",
      "0.29335667538551036\n"
     ]
    }
   ],
   "source": [
    "#Xgboost Model score\n",
    "\n",
    "model_xgb.fit(train, y_train)\n",
    "\n",
    "xgb_train_pred = model_xgb.predict(train)\n",
    "\n",
    "xgb_pred = np.expm1(model_xgb.predict(test))\n",
    "print(rmsle(y_train, xgb_train_pred))"
   ]
  },
  {
   "cell_type": "code",
   "execution_count": 60,
   "id": "0a9cf1e8",
   "metadata": {
    "execution": {
     "iopub.execute_input": "2023-07-14T05:41:35.057059Z",
     "iopub.status.busy": "2023-07-14T05:41:35.056697Z",
     "iopub.status.idle": "2023-07-14T05:41:35.645145Z",
     "shell.execute_reply": "2023-07-14T05:41:35.644194Z"
    },
    "papermill": {
     "duration": 0.621167,
     "end_time": "2023-07-14T05:41:35.647314",
     "exception": false,
     "start_time": "2023-07-14T05:41:35.026147",
     "status": "completed"
    },
    "tags": []
   },
   "outputs": [
    {
     "name": "stdout",
     "output_type": "stream",
     "text": [
      "[LightGBM] [Warning] bagging_fraction is set=0.8, subsample=1.0 will be ignored. Current value: bagging_fraction=0.8\n",
      "[LightGBM] [Warning] min_sum_hessian_in_leaf is set=11, min_child_weight=0.001 will be ignored. Current value: min_sum_hessian_in_leaf=11\n",
      "[LightGBM] [Warning] min_data_in_leaf is set=6, min_child_samples=20 will be ignored. Current value: min_data_in_leaf=6\n",
      "[LightGBM] [Warning] feature_fraction is set=0.2319, colsample_bytree=1.0 will be ignored. Current value: feature_fraction=0.2319\n",
      "[LightGBM] [Warning] bagging_freq is set=5, subsample_freq=0 will be ignored. Current value: bagging_freq=5\n",
      "0.339998805629403\n"
     ]
    }
   ],
   "source": [
    "#LGBM Model Score\n",
    "model_lgb.fit(train, y_train)\n",
    "lgb_train_pred = model_lgb.predict(train)\n",
    "lgb_pred = np.expm1(model_lgb.predict(test.values))\n",
    "print(rmsle(y_train, lgb_train_pred))"
   ]
  },
  {
   "cell_type": "code",
   "execution_count": 61,
   "id": "ce5ee3a2",
   "metadata": {
    "execution": {
     "iopub.execute_input": "2023-07-14T05:41:35.709934Z",
     "iopub.status.busy": "2023-07-14T05:41:35.709584Z",
     "iopub.status.idle": "2023-07-14T05:41:35.718613Z",
     "shell.execute_reply": "2023-07-14T05:41:35.717242Z"
    },
    "papermill": {
     "duration": 0.042346,
     "end_time": "2023-07-14T05:41:35.720947",
     "exception": false,
     "start_time": "2023-07-14T05:41:35.678601",
     "status": "completed"
    },
    "tags": []
   },
   "outputs": [
    {
     "name": "stdout",
     "output_type": "stream",
     "text": [
      "RMSLE score on train data:\n",
      "0.3309252143041386\n"
     ]
    }
   ],
   "source": [
    "'''RMSE on the entire Train data when averaging'''\n",
    "\n",
    "print('RMSLE score on train data:')\n",
    "print(rmsle(y_train,stacked_train_pred*0.70 +\n",
    "               xgb_train_pred*0.15 + lgb_train_pred*0.15 ))"
   ]
  },
  {
   "cell_type": "markdown",
   "id": "113d1dae",
   "metadata": {
    "papermill": {
     "duration": 0.029992,
     "end_time": "2023-07-14T05:41:35.780786",
     "exception": false,
     "start_time": "2023-07-14T05:41:35.750794",
     "status": "completed"
    },
    "tags": []
   },
   "source": [
    "Ensemble Stacking Model prediction;"
   ]
  },
  {
   "cell_type": "code",
   "execution_count": 62,
   "id": "e6f13bc3",
   "metadata": {
    "execution": {
     "iopub.execute_input": "2023-07-14T05:41:35.844017Z",
     "iopub.status.busy": "2023-07-14T05:41:35.843650Z",
     "iopub.status.idle": "2023-07-14T05:41:35.848519Z",
     "shell.execute_reply": "2023-07-14T05:41:35.847585Z"
    },
    "papermill": {
     "duration": 0.039836,
     "end_time": "2023-07-14T05:41:35.850580",
     "exception": false,
     "start_time": "2023-07-14T05:41:35.810744",
     "status": "completed"
    },
    "tags": []
   },
   "outputs": [],
   "source": [
    "ensemble = stacked_pred*0.70 + xgb_pred*0.15 + lgb_pred*0.15"
   ]
  },
  {
   "cell_type": "markdown",
   "id": "6b8c8177",
   "metadata": {
    "papermill": {
     "duration": 0.029818,
     "end_time": "2023-07-14T05:41:35.910237",
     "exception": false,
     "start_time": "2023-07-14T05:41:35.880419",
     "status": "completed"
    },
    "tags": []
   },
   "source": [
    "7. **Predicted ouput & Submission**"
   ]
  },
  {
   "cell_type": "code",
   "execution_count": 63,
   "id": "928c125e",
   "metadata": {
    "execution": {
     "iopub.execute_input": "2023-07-14T05:41:35.972135Z",
     "iopub.status.busy": "2023-07-14T05:41:35.971765Z",
     "iopub.status.idle": "2023-07-14T05:41:35.985985Z",
     "shell.execute_reply": "2023-07-14T05:41:35.985018Z"
    },
    "papermill": {
     "duration": 0.04831,
     "end_time": "2023-07-14T05:41:35.988333",
     "exception": false,
     "start_time": "2023-07-14T05:41:35.940023",
     "status": "completed"
    },
    "tags": []
   },
   "outputs": [],
   "source": [
    "sub = pd.DataFrame()\n",
    "sub['UID'] = test_UID\n",
    "sub['y'] = ensemble\n",
    "sub.to_csv('Submission.csv',index=False)"
   ]
  }
 ],
 "metadata": {
  "kernelspec": {
   "display_name": "Python 3",
   "language": "python",
   "name": "python3"
  },
  "language_info": {
   "codemirror_mode": {
    "name": "ipython",
    "version": 3
   },
   "file_extension": ".py",
   "mimetype": "text/x-python",
   "name": "python",
   "nbconvert_exporter": "python",
   "pygments_lexer": "ipython3",
   "version": "3.10.12"
  },
  "papermill": {
   "default_parameters": {},
   "duration": 227.778124,
   "end_time": "2023-07-14T05:41:38.751396",
   "environment_variables": {},
   "exception": null,
   "input_path": "__notebook__.ipynb",
   "output_path": "__notebook__.ipynb",
   "parameters": {},
   "start_time": "2023-07-14T05:37:50.973272",
   "version": "2.4.0"
  }
 },
 "nbformat": 4,
 "nbformat_minor": 5
}
