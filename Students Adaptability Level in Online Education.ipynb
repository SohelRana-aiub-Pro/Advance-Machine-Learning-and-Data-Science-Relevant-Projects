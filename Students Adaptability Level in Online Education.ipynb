{
 "cells": [
  {
   "cell_type": "markdown",
   "id": "12edd13b",
   "metadata": {
    "papermill": {
     "duration": 0.009839,
     "end_time": "2023-07-11T17:55:31.417323",
     "exception": false,
     "start_time": "2023-07-11T17:55:31.407484",
     "status": "completed"
    },
    "tags": []
   },
   "source": [
    "* Students Adaptability Level Prediction in Online Education Via Machine Learning & Deep Learning;\n",
    "\n",
    "->Online education has become increasingly popular in recent years, as it provides students with the flexibility to learn at their own pace and from anywhere in the world. However, not all students are equally adaptable to online learning. Some students may find it difficult to stay motivated and engaged in an online environment, while others may struggle with the technical aspects of online learning.\n",
    "\n",
    "This dataset can be used to explore a variety of research questions related to student adaptability in online education. For example, researchers could use the dataset to investigate the relationship between student characteristics and adaptability, or to identify the factors that contribute to student success in online learning. The dataset could also be used to develop predictive models that can be used to identify students who are at risk of struggling in online education.\n",
    "\n",
    "Here are some of the key questions that can be addressed using the dataset:\n",
    "\n",
    "1. What are the factors that influence student adaptability in online education?\n",
    "1. How can we identify students who are at risk of struggling in online education?\n",
    "1. How can we improve the quality of online learning experiences for students?"
   ]
  },
  {
   "cell_type": "markdown",
   "id": "c4d2b9ab",
   "metadata": {
    "papermill": {
     "duration": 0.008658,
     "end_time": "2023-07-11T17:55:31.435041",
     "exception": false,
     "start_time": "2023-07-11T17:55:31.426383",
     "status": "completed"
    },
    "tags": []
   },
   "source": [
    "* **Required things And Import Librarries;**"
   ]
  },
  {
   "cell_type": "code",
   "execution_count": 1,
   "id": "2d792472",
   "metadata": {
    "execution": {
     "iopub.execute_input": "2023-07-11T17:55:31.454312Z",
     "iopub.status.busy": "2023-07-11T17:55:31.453955Z",
     "iopub.status.idle": "2023-07-11T17:55:32.173108Z",
     "shell.execute_reply": "2023-07-11T17:55:32.172094Z"
    },
    "papermill": {
     "duration": 0.73157,
     "end_time": "2023-07-11T17:55:32.175525",
     "exception": false,
     "start_time": "2023-07-11T17:55:31.443955",
     "status": "completed"
    },
    "tags": []
   },
   "outputs": [],
   "source": [
    "import os\n",
    "import numpy as np\n",
    "import pandas as pd\n",
    "import plotly.express as px"
   ]
  },
  {
   "cell_type": "code",
   "execution_count": 2,
   "id": "7a43b7db",
   "metadata": {
    "execution": {
     "iopub.execute_input": "2023-07-11T17:55:32.196459Z",
     "iopub.status.busy": "2023-07-11T17:55:32.194998Z",
     "iopub.status.idle": "2023-07-11T17:55:33.293904Z",
     "shell.execute_reply": "2023-07-11T17:55:33.292922Z"
    },
    "papermill": {
     "duration": 1.111351,
     "end_time": "2023-07-11T17:55:33.296316",
     "exception": false,
     "start_time": "2023-07-11T17:55:32.184965",
     "status": "completed"
    },
    "tags": []
   },
   "outputs": [
    {
     "name": "stderr",
     "output_type": "stream",
     "text": [
      "/opt/conda/lib/python3.10/site-packages/scipy/__init__.py:146: UserWarning: A NumPy version >=1.16.5 and <1.23.0 is required for this version of SciPy (detected version 1.23.5\n",
      "  warnings.warn(f\"A NumPy version >={np_minversion} and <{np_maxversion}\"\n"
     ]
    }
   ],
   "source": [
    "import seaborn as sns\n",
    "import matplotlib.pyplot as plt\n",
    "plt.style.use(\"ggplot\")  #using style ggplot\n",
    "%matplotlib inline\n",
    "import plotly.graph_objects as go"
   ]
  },
  {
   "cell_type": "code",
   "execution_count": 3,
   "id": "9bcc96d0",
   "metadata": {
    "execution": {
     "iopub.execute_input": "2023-07-11T17:55:33.316334Z",
     "iopub.status.busy": "2023-07-11T17:55:33.316028Z",
     "iopub.status.idle": "2023-07-11T17:55:33.990958Z",
     "shell.execute_reply": "2023-07-11T17:55:33.989974Z"
    },
    "papermill": {
     "duration": 0.687601,
     "end_time": "2023-07-11T17:55:33.993474",
     "exception": false,
     "start_time": "2023-07-11T17:55:33.305873",
     "status": "completed"
    },
    "tags": []
   },
   "outputs": [],
   "source": [
    "#Importing the basic librarires for building model - classification\n",
    "from sklearn.model_selection import train_test_split\n",
    "\n",
    "from sklearn.metrics import accuracy_score,r2_score\n",
    "from sklearn.linear_model import LogisticRegression\n",
    "from sklearn.tree import DecisionTreeClassifier\n",
    "from sklearn.ensemble import RandomForestClassifier\n",
    "from sklearn.neural_network import  MLPClassifier\n",
    "from sklearn.svm import SVC\n",
    "from xgboost import XGBClassifier\n",
    "\n",
    "from sklearn.neighbors import  KNeighborsClassifier\n",
    "from sklearn.preprocessing import LabelEncoder,StandardScaler"
   ]
  },
  {
   "cell_type": "markdown",
   "id": "d8d733ed",
   "metadata": {
    "papermill": {
     "duration": 0.008835,
     "end_time": "2023-07-11T17:55:34.011695",
     "exception": false,
     "start_time": "2023-07-11T17:55:34.002860",
     "status": "completed"
    },
    "tags": []
   },
   "source": [
    "* Data Reads & Dataset Informations;"
   ]
  },
  {
   "cell_type": "code",
   "execution_count": 4,
   "id": "a8602b87",
   "metadata": {
    "execution": {
     "iopub.execute_input": "2023-07-11T17:55:34.031431Z",
     "iopub.status.busy": "2023-07-11T17:55:34.030626Z",
     "iopub.status.idle": "2023-07-11T17:55:34.056084Z",
     "shell.execute_reply": "2023-07-11T17:55:34.055224Z"
    },
    "papermill": {
     "duration": 0.037564,
     "end_time": "2023-07-11T17:55:34.058274",
     "exception": false,
     "start_time": "2023-07-11T17:55:34.020710",
     "status": "completed"
    },
    "tags": []
   },
   "outputs": [],
   "source": [
    "df =pd.read_csv(\"../input/students-adaptability-level-in-online-education/students_adaptability_level_online_education.csv\")"
   ]
  },
  {
   "cell_type": "code",
   "execution_count": 5,
   "id": "abc8dbca",
   "metadata": {
    "execution": {
     "iopub.execute_input": "2023-07-11T17:55:34.077591Z",
     "iopub.status.busy": "2023-07-11T17:55:34.077329Z",
     "iopub.status.idle": "2023-07-11T17:55:34.101155Z",
     "shell.execute_reply": "2023-07-11T17:55:34.099218Z"
    },
    "papermill": {
     "duration": 0.035759,
     "end_time": "2023-07-11T17:55:34.103075",
     "exception": false,
     "start_time": "2023-07-11T17:55:34.067316",
     "status": "completed"
    },
    "tags": []
   },
   "outputs": [
    {
     "data": {
      "text/html": [
       "<div>\n",
       "<style scoped>\n",
       "    .dataframe tbody tr th:only-of-type {\n",
       "        vertical-align: middle;\n",
       "    }\n",
       "\n",
       "    .dataframe tbody tr th {\n",
       "        vertical-align: top;\n",
       "    }\n",
       "\n",
       "    .dataframe thead th {\n",
       "        text-align: right;\n",
       "    }\n",
       "</style>\n",
       "<table border=\"1\" class=\"dataframe\">\n",
       "  <thead>\n",
       "    <tr style=\"text-align: right;\">\n",
       "      <th></th>\n",
       "      <th>Gender</th>\n",
       "      <th>Age</th>\n",
       "      <th>Education Level</th>\n",
       "      <th>Institution Type</th>\n",
       "      <th>IT Student</th>\n",
       "      <th>Location</th>\n",
       "      <th>Load-shedding</th>\n",
       "      <th>Financial Condition</th>\n",
       "      <th>Internet Type</th>\n",
       "      <th>Network Type</th>\n",
       "      <th>Class Duration</th>\n",
       "      <th>Self Lms</th>\n",
       "      <th>Device</th>\n",
       "      <th>Adaptivity Level</th>\n",
       "    </tr>\n",
       "  </thead>\n",
       "  <tbody>\n",
       "    <tr>\n",
       "      <th>0</th>\n",
       "      <td>Boy</td>\n",
       "      <td>21-25</td>\n",
       "      <td>University</td>\n",
       "      <td>Non Government</td>\n",
       "      <td>No</td>\n",
       "      <td>Yes</td>\n",
       "      <td>Low</td>\n",
       "      <td>Mid</td>\n",
       "      <td>Wifi</td>\n",
       "      <td>4G</td>\n",
       "      <td>3-6</td>\n",
       "      <td>No</td>\n",
       "      <td>Tab</td>\n",
       "      <td>Moderate</td>\n",
       "    </tr>\n",
       "    <tr>\n",
       "      <th>1</th>\n",
       "      <td>Girl</td>\n",
       "      <td>21-25</td>\n",
       "      <td>University</td>\n",
       "      <td>Non Government</td>\n",
       "      <td>No</td>\n",
       "      <td>Yes</td>\n",
       "      <td>High</td>\n",
       "      <td>Mid</td>\n",
       "      <td>Mobile Data</td>\n",
       "      <td>4G</td>\n",
       "      <td>1-3</td>\n",
       "      <td>Yes</td>\n",
       "      <td>Mobile</td>\n",
       "      <td>Moderate</td>\n",
       "    </tr>\n",
       "    <tr>\n",
       "      <th>2</th>\n",
       "      <td>Girl</td>\n",
       "      <td>16-20</td>\n",
       "      <td>College</td>\n",
       "      <td>Government</td>\n",
       "      <td>No</td>\n",
       "      <td>Yes</td>\n",
       "      <td>Low</td>\n",
       "      <td>Mid</td>\n",
       "      <td>Wifi</td>\n",
       "      <td>4G</td>\n",
       "      <td>1-3</td>\n",
       "      <td>No</td>\n",
       "      <td>Mobile</td>\n",
       "      <td>Moderate</td>\n",
       "    </tr>\n",
       "    <tr>\n",
       "      <th>3</th>\n",
       "      <td>Girl</td>\n",
       "      <td>11-15</td>\n",
       "      <td>School</td>\n",
       "      <td>Non Government</td>\n",
       "      <td>No</td>\n",
       "      <td>Yes</td>\n",
       "      <td>Low</td>\n",
       "      <td>Mid</td>\n",
       "      <td>Mobile Data</td>\n",
       "      <td>4G</td>\n",
       "      <td>1-3</td>\n",
       "      <td>No</td>\n",
       "      <td>Mobile</td>\n",
       "      <td>Moderate</td>\n",
       "    </tr>\n",
       "    <tr>\n",
       "      <th>4</th>\n",
       "      <td>Girl</td>\n",
       "      <td>16-20</td>\n",
       "      <td>School</td>\n",
       "      <td>Non Government</td>\n",
       "      <td>No</td>\n",
       "      <td>Yes</td>\n",
       "      <td>Low</td>\n",
       "      <td>Poor</td>\n",
       "      <td>Mobile Data</td>\n",
       "      <td>3G</td>\n",
       "      <td>0</td>\n",
       "      <td>No</td>\n",
       "      <td>Mobile</td>\n",
       "      <td>Low</td>\n",
       "    </tr>\n",
       "    <tr>\n",
       "      <th>5</th>\n",
       "      <td>Boy</td>\n",
       "      <td>11-15</td>\n",
       "      <td>School</td>\n",
       "      <td>Non Government</td>\n",
       "      <td>No</td>\n",
       "      <td>Yes</td>\n",
       "      <td>Low</td>\n",
       "      <td>Poor</td>\n",
       "      <td>Mobile Data</td>\n",
       "      <td>3G</td>\n",
       "      <td>1-3</td>\n",
       "      <td>No</td>\n",
       "      <td>Mobile</td>\n",
       "      <td>Low</td>\n",
       "    </tr>\n",
       "    <tr>\n",
       "      <th>6</th>\n",
       "      <td>Boy</td>\n",
       "      <td>11-15</td>\n",
       "      <td>School</td>\n",
       "      <td>Non Government</td>\n",
       "      <td>No</td>\n",
       "      <td>Yes</td>\n",
       "      <td>Low</td>\n",
       "      <td>Mid</td>\n",
       "      <td>Wifi</td>\n",
       "      <td>4G</td>\n",
       "      <td>0</td>\n",
       "      <td>No</td>\n",
       "      <td>Mobile</td>\n",
       "      <td>Low</td>\n",
       "    </tr>\n",
       "    <tr>\n",
       "      <th>7</th>\n",
       "      <td>Boy</td>\n",
       "      <td>11-15</td>\n",
       "      <td>School</td>\n",
       "      <td>Non Government</td>\n",
       "      <td>No</td>\n",
       "      <td>Yes</td>\n",
       "      <td>Low</td>\n",
       "      <td>Mid</td>\n",
       "      <td>Wifi</td>\n",
       "      <td>4G</td>\n",
       "      <td>1-3</td>\n",
       "      <td>No</td>\n",
       "      <td>Mobile</td>\n",
       "      <td>Moderate</td>\n",
       "    </tr>\n",
       "    <tr>\n",
       "      <th>8</th>\n",
       "      <td>Boy</td>\n",
       "      <td>16-20</td>\n",
       "      <td>College</td>\n",
       "      <td>Government</td>\n",
       "      <td>No</td>\n",
       "      <td>Yes</td>\n",
       "      <td>Low</td>\n",
       "      <td>Mid</td>\n",
       "      <td>Wifi</td>\n",
       "      <td>4G</td>\n",
       "      <td>1-3</td>\n",
       "      <td>No</td>\n",
       "      <td>Mobile</td>\n",
       "      <td>Low</td>\n",
       "    </tr>\n",
       "    <tr>\n",
       "      <th>9</th>\n",
       "      <td>Boy</td>\n",
       "      <td>11-15</td>\n",
       "      <td>School</td>\n",
       "      <td>Non Government</td>\n",
       "      <td>No</td>\n",
       "      <td>Yes</td>\n",
       "      <td>Low</td>\n",
       "      <td>Mid</td>\n",
       "      <td>Mobile Data</td>\n",
       "      <td>3G</td>\n",
       "      <td>1-3</td>\n",
       "      <td>No</td>\n",
       "      <td>Mobile</td>\n",
       "      <td>Moderate</td>\n",
       "    </tr>\n",
       "  </tbody>\n",
       "</table>\n",
       "</div>"
      ],
      "text/plain": [
       "  Gender    Age Education Level Institution Type IT Student Location  \\\n",
       "0    Boy  21-25      University   Non Government         No      Yes   \n",
       "1   Girl  21-25      University   Non Government         No      Yes   \n",
       "2   Girl  16-20         College       Government         No      Yes   \n",
       "3   Girl  11-15          School   Non Government         No      Yes   \n",
       "4   Girl  16-20          School   Non Government         No      Yes   \n",
       "5    Boy  11-15          School   Non Government         No      Yes   \n",
       "6    Boy  11-15          School   Non Government         No      Yes   \n",
       "7    Boy  11-15          School   Non Government         No      Yes   \n",
       "8    Boy  16-20         College       Government         No      Yes   \n",
       "9    Boy  11-15          School   Non Government         No      Yes   \n",
       "\n",
       "  Load-shedding Financial Condition Internet Type Network Type Class Duration  \\\n",
       "0           Low                 Mid          Wifi           4G            3-6   \n",
       "1          High                 Mid   Mobile Data           4G            1-3   \n",
       "2           Low                 Mid          Wifi           4G            1-3   \n",
       "3           Low                 Mid   Mobile Data           4G            1-3   \n",
       "4           Low                Poor   Mobile Data           3G              0   \n",
       "5           Low                Poor   Mobile Data           3G            1-3   \n",
       "6           Low                 Mid          Wifi           4G              0   \n",
       "7           Low                 Mid          Wifi           4G            1-3   \n",
       "8           Low                 Mid          Wifi           4G            1-3   \n",
       "9           Low                 Mid   Mobile Data           3G            1-3   \n",
       "\n",
       "  Self Lms  Device Adaptivity Level  \n",
       "0       No     Tab         Moderate  \n",
       "1      Yes  Mobile         Moderate  \n",
       "2       No  Mobile         Moderate  \n",
       "3       No  Mobile         Moderate  \n",
       "4       No  Mobile              Low  \n",
       "5       No  Mobile              Low  \n",
       "6       No  Mobile              Low  \n",
       "7       No  Mobile         Moderate  \n",
       "8       No  Mobile              Low  \n",
       "9       No  Mobile         Moderate  "
      ]
     },
     "execution_count": 5,
     "metadata": {},
     "output_type": "execute_result"
    }
   ],
   "source": [
    "df.head(10)"
   ]
  },
  {
   "cell_type": "code",
   "execution_count": 6,
   "id": "6456f623",
   "metadata": {
    "execution": {
     "iopub.execute_input": "2023-07-11T17:55:34.124670Z",
     "iopub.status.busy": "2023-07-11T17:55:34.124415Z",
     "iopub.status.idle": "2023-07-11T17:55:34.147573Z",
     "shell.execute_reply": "2023-07-11T17:55:34.146298Z"
    },
    "papermill": {
     "duration": 0.036214,
     "end_time": "2023-07-11T17:55:34.149677",
     "exception": false,
     "start_time": "2023-07-11T17:55:34.113463",
     "status": "completed"
    },
    "tags": []
   },
   "outputs": [
    {
     "name": "stdout",
     "output_type": "stream",
     "text": [
      "<class 'pandas.core.frame.DataFrame'>\n",
      "RangeIndex: 1205 entries, 0 to 1204\n",
      "Data columns (total 14 columns):\n",
      " #   Column               Non-Null Count  Dtype \n",
      "---  ------               --------------  ----- \n",
      " 0   Gender               1205 non-null   object\n",
      " 1   Age                  1205 non-null   object\n",
      " 2   Education Level      1205 non-null   object\n",
      " 3   Institution Type     1205 non-null   object\n",
      " 4   IT Student           1205 non-null   object\n",
      " 5   Location             1205 non-null   object\n",
      " 6   Load-shedding        1205 non-null   object\n",
      " 7   Financial Condition  1205 non-null   object\n",
      " 8   Internet Type        1205 non-null   object\n",
      " 9   Network Type         1205 non-null   object\n",
      " 10  Class Duration       1205 non-null   object\n",
      " 11  Self Lms             1205 non-null   object\n",
      " 12  Device               1205 non-null   object\n",
      " 13  Adaptivity Level     1205 non-null   object\n",
      "dtypes: object(14)\n",
      "memory usage: 131.9+ KB\n"
     ]
    }
   ],
   "source": [
    "#Checking the dtypes of all the columns\n",
    "df.info()"
   ]
  },
  {
   "cell_type": "code",
   "execution_count": 7,
   "id": "9007e137",
   "metadata": {
    "execution": {
     "iopub.execute_input": "2023-07-11T17:55:34.170239Z",
     "iopub.status.busy": "2023-07-11T17:55:34.169497Z",
     "iopub.status.idle": "2023-07-11T17:55:34.178438Z",
     "shell.execute_reply": "2023-07-11T17:55:34.177494Z"
    },
    "papermill": {
     "duration": 0.021318,
     "end_time": "2023-07-11T17:55:34.180434",
     "exception": false,
     "start_time": "2023-07-11T17:55:34.159116",
     "status": "completed"
    },
    "tags": []
   },
   "outputs": [
    {
     "data": {
      "text/plain": [
       "(1205, 14)"
      ]
     },
     "execution_count": 7,
     "metadata": {},
     "output_type": "execute_result"
    }
   ],
   "source": [
    "# looking the shape DataSet\n",
    "df.shape"
   ]
  },
  {
   "cell_type": "code",
   "execution_count": 8,
   "id": "fbbac3b9",
   "metadata": {
    "execution": {
     "iopub.execute_input": "2023-07-11T17:55:34.201278Z",
     "iopub.status.busy": "2023-07-11T17:55:34.200570Z",
     "iopub.status.idle": "2023-07-11T17:55:34.212419Z",
     "shell.execute_reply": "2023-07-11T17:55:34.211463Z"
    },
    "papermill": {
     "duration": 0.024251,
     "end_time": "2023-07-11T17:55:34.214335",
     "exception": false,
     "start_time": "2023-07-11T17:55:34.190084",
     "status": "completed"
    },
    "tags": []
   },
   "outputs": [
    {
     "data": {
      "text/plain": [
       "Gender                 0\n",
       "Age                    0\n",
       "Education Level        0\n",
       "Institution Type       0\n",
       "IT Student             0\n",
       "Location               0\n",
       "Load-shedding          0\n",
       "Financial Condition    0\n",
       "Internet Type          0\n",
       "Network Type           0\n",
       "Class Duration         0\n",
       "Self Lms               0\n",
       "Device                 0\n",
       "Adaptivity Level       0\n",
       "dtype: int64"
      ]
     },
     "execution_count": 8,
     "metadata": {},
     "output_type": "execute_result"
    }
   ],
   "source": [
    "#Cheacking Missing values of the Dataset\n",
    "df.isnull().sum()"
   ]
  },
  {
   "cell_type": "code",
   "execution_count": 9,
   "id": "0a08adf5",
   "metadata": {
    "execution": {
     "iopub.execute_input": "2023-07-11T17:55:34.235343Z",
     "iopub.status.busy": "2023-07-11T17:55:34.234591Z",
     "iopub.status.idle": "2023-07-11T17:55:34.265390Z",
     "shell.execute_reply": "2023-07-11T17:55:34.264327Z"
    },
    "papermill": {
     "duration": 0.043451,
     "end_time": "2023-07-11T17:55:34.267464",
     "exception": false,
     "start_time": "2023-07-11T17:55:34.224013",
     "status": "completed"
    },
    "tags": []
   },
   "outputs": [
    {
     "data": {
      "text/html": [
       "<div>\n",
       "<style scoped>\n",
       "    .dataframe tbody tr th:only-of-type {\n",
       "        vertical-align: middle;\n",
       "    }\n",
       "\n",
       "    .dataframe tbody tr th {\n",
       "        vertical-align: top;\n",
       "    }\n",
       "\n",
       "    .dataframe thead th {\n",
       "        text-align: right;\n",
       "    }\n",
       "</style>\n",
       "<table border=\"1\" class=\"dataframe\">\n",
       "  <thead>\n",
       "    <tr style=\"text-align: right;\">\n",
       "      <th></th>\n",
       "      <th>count</th>\n",
       "      <th>unique</th>\n",
       "      <th>top</th>\n",
       "      <th>freq</th>\n",
       "    </tr>\n",
       "  </thead>\n",
       "  <tbody>\n",
       "    <tr>\n",
       "      <th>Gender</th>\n",
       "      <td>1205</td>\n",
       "      <td>2</td>\n",
       "      <td>Boy</td>\n",
       "      <td>663</td>\n",
       "    </tr>\n",
       "    <tr>\n",
       "      <th>Age</th>\n",
       "      <td>1205</td>\n",
       "      <td>6</td>\n",
       "      <td>21-25</td>\n",
       "      <td>374</td>\n",
       "    </tr>\n",
       "    <tr>\n",
       "      <th>Education Level</th>\n",
       "      <td>1205</td>\n",
       "      <td>3</td>\n",
       "      <td>School</td>\n",
       "      <td>530</td>\n",
       "    </tr>\n",
       "    <tr>\n",
       "      <th>Institution Type</th>\n",
       "      <td>1205</td>\n",
       "      <td>2</td>\n",
       "      <td>Non Government</td>\n",
       "      <td>823</td>\n",
       "    </tr>\n",
       "    <tr>\n",
       "      <th>IT Student</th>\n",
       "      <td>1205</td>\n",
       "      <td>2</td>\n",
       "      <td>No</td>\n",
       "      <td>901</td>\n",
       "    </tr>\n",
       "    <tr>\n",
       "      <th>Location</th>\n",
       "      <td>1205</td>\n",
       "      <td>2</td>\n",
       "      <td>Yes</td>\n",
       "      <td>935</td>\n",
       "    </tr>\n",
       "    <tr>\n",
       "      <th>Load-shedding</th>\n",
       "      <td>1205</td>\n",
       "      <td>2</td>\n",
       "      <td>Low</td>\n",
       "      <td>1004</td>\n",
       "    </tr>\n",
       "    <tr>\n",
       "      <th>Financial Condition</th>\n",
       "      <td>1205</td>\n",
       "      <td>3</td>\n",
       "      <td>Mid</td>\n",
       "      <td>878</td>\n",
       "    </tr>\n",
       "    <tr>\n",
       "      <th>Internet Type</th>\n",
       "      <td>1205</td>\n",
       "      <td>2</td>\n",
       "      <td>Mobile Data</td>\n",
       "      <td>695</td>\n",
       "    </tr>\n",
       "    <tr>\n",
       "      <th>Network Type</th>\n",
       "      <td>1205</td>\n",
       "      <td>3</td>\n",
       "      <td>4G</td>\n",
       "      <td>775</td>\n",
       "    </tr>\n",
       "    <tr>\n",
       "      <th>Class Duration</th>\n",
       "      <td>1205</td>\n",
       "      <td>3</td>\n",
       "      <td>1-3</td>\n",
       "      <td>840</td>\n",
       "    </tr>\n",
       "    <tr>\n",
       "      <th>Self Lms</th>\n",
       "      <td>1205</td>\n",
       "      <td>2</td>\n",
       "      <td>No</td>\n",
       "      <td>995</td>\n",
       "    </tr>\n",
       "    <tr>\n",
       "      <th>Device</th>\n",
       "      <td>1205</td>\n",
       "      <td>3</td>\n",
       "      <td>Mobile</td>\n",
       "      <td>1013</td>\n",
       "    </tr>\n",
       "    <tr>\n",
       "      <th>Adaptivity Level</th>\n",
       "      <td>1205</td>\n",
       "      <td>3</td>\n",
       "      <td>Moderate</td>\n",
       "      <td>625</td>\n",
       "    </tr>\n",
       "  </tbody>\n",
       "</table>\n",
       "</div>"
      ],
      "text/plain": [
       "                    count unique             top  freq\n",
       "Gender               1205      2             Boy   663\n",
       "Age                  1205      6           21-25   374\n",
       "Education Level      1205      3          School   530\n",
       "Institution Type     1205      2  Non Government   823\n",
       "IT Student           1205      2              No   901\n",
       "Location             1205      2             Yes   935\n",
       "Load-shedding        1205      2             Low  1004\n",
       "Financial Condition  1205      3             Mid   878\n",
       "Internet Type        1205      2     Mobile Data   695\n",
       "Network Type         1205      3              4G   775\n",
       "Class Duration       1205      3             1-3   840\n",
       "Self Lms             1205      2              No   995\n",
       "Device               1205      3          Mobile  1013\n",
       "Adaptivity Level     1205      3        Moderate   625"
      ]
     },
     "execution_count": 9,
     "metadata": {},
     "output_type": "execute_result"
    }
   ],
   "source": [
    "# look  describe data set\n",
    "\n",
    "df.describe().T"
   ]
  },
  {
   "cell_type": "markdown",
   "id": "48792f39",
   "metadata": {
    "papermill": {
     "duration": 0.01001,
     "end_time": "2023-07-11T17:55:34.287864",
     "exception": false,
     "start_time": "2023-07-11T17:55:34.277854",
     "status": "completed"
    },
    "tags": []
   },
   "source": [
    "* Data Visualizations and EDA Analysis"
   ]
  },
  {
   "cell_type": "code",
   "execution_count": 10,
   "id": "2eb89be5",
   "metadata": {
    "execution": {
     "iopub.execute_input": "2023-07-11T17:55:34.309734Z",
     "iopub.status.busy": "2023-07-11T17:55:34.308896Z",
     "iopub.status.idle": "2023-07-11T17:55:34.600171Z",
     "shell.execute_reply": "2023-07-11T17:55:34.599167Z"
    },
    "papermill": {
     "duration": 0.304348,
     "end_time": "2023-07-11T17:55:34.602360",
     "exception": false,
     "start_time": "2023-07-11T17:55:34.298012",
     "status": "completed"
    },
    "tags": []
   },
   "outputs": [
    {
     "data": {
      "text/plain": [
       "<Axes: ylabel='Adaptivity Level'>"
      ]
     },
     "execution_count": 10,
     "metadata": {},
     "output_type": "execute_result"
    },
    {
     "data": {
      "image/png": "[encoded data removed]",
      "text/plain": [
       "<Figure size 1200x1000 with 1 Axes>"
      ]
     },
     "metadata": {},
     "output_type": "display_data"
    }
   ],
   "source": [
    "# Show the percentage Adaptivity Level in Dataset\n",
    "\n",
    "plt.figure(figsize=(12,10))\n",
    "df['Adaptivity Level'].value_counts().plot.pie(autopct='%1.1f%%',shadow=True)"
   ]
  },
  {
   "cell_type": "markdown",
   "id": "10ccc91e",
   "metadata": {
    "papermill": {
     "duration": 0.010818,
     "end_time": "2023-07-11T17:55:34.624165",
     "exception": false,
     "start_time": "2023-07-11T17:55:34.613347",
     "status": "completed"
    },
    "tags": []
   },
   "source": [
    "->The percentage Adaptivity Level in Dataset\n",
    "\n",
    "Low = 39.8%, \n",
    "\n",
    "Moderate = 51.9%,\n",
    "\n",
    "High = 8.3 %"
   ]
  },
  {
   "cell_type": "code",
   "execution_count": 11,
   "id": "1a9f0349",
   "metadata": {
    "execution": {
     "iopub.execute_input": "2023-07-11T17:55:34.647246Z",
     "iopub.status.busy": "2023-07-11T17:55:34.646473Z",
     "iopub.status.idle": "2023-07-11T17:55:34.851180Z",
     "shell.execute_reply": "2023-07-11T17:55:34.850301Z"
    },
    "papermill": {
     "duration": 0.219179,
     "end_time": "2023-07-11T17:55:34.854067",
     "exception": false,
     "start_time": "2023-07-11T17:55:34.634888",
     "status": "completed"
    },
    "tags": []
   },
   "outputs": [
    {
     "data": {
      "text/plain": [
       "<Axes: ylabel='Gender'>"
      ]
     },
     "execution_count": 11,
     "metadata": {},
     "output_type": "execute_result"
    },
    {
     "data": {
      "image/png": "[encoded data removed]",
      "text/plain": [
       "<Figure size 1300x900 with 1 Axes>"
      ]
     },
     "metadata": {},
     "output_type": "display_data"
    }
   ],
   "source": [
    "# Show the percentage Gender in Dataset\n",
    "\n",
    "plt.figure(figsize=(13,9))\n",
    "\n",
    "df['Gender'].value_counts().plot.pie(autopct='%1.1f%%',shadow=True)"
   ]
  },
  {
   "cell_type": "markdown",
   "id": "85fca2a3",
   "metadata": {
    "papermill": {
     "duration": 0.011576,
     "end_time": "2023-07-11T17:55:34.890042",
     "exception": false,
     "start_time": "2023-07-11T17:55:34.878466",
     "status": "completed"
    },
    "tags": []
   },
   "source": [
    "->The percentage Gender in Dataset\n",
    "\n",
    "Boy= 55%,\n",
    "\n",
    "Girl = 45 %"
   ]
  },
  {
   "cell_type": "code",
   "execution_count": 12,
   "id": "fe8a0ee7",
   "metadata": {
    "execution": {
     "iopub.execute_input": "2023-07-11T17:55:34.913781Z",
     "iopub.status.busy": "2023-07-11T17:55:34.913499Z",
     "iopub.status.idle": "2023-07-11T17:55:35.172354Z",
     "shell.execute_reply": "2023-07-11T17:55:35.171080Z"
    },
    "papermill": {
     "duration": 0.276452,
     "end_time": "2023-07-11T17:55:35.177697",
     "exception": false,
     "start_time": "2023-07-11T17:55:34.901245",
     "status": "completed"
    },
    "tags": []
   },
   "outputs": [
    {
     "data": {
      "text/plain": [
       "<Axes: ylabel='Device'>"
      ]
     },
     "execution_count": 12,
     "metadata": {},
     "output_type": "execute_result"
    },
    {
     "data": {
      "image/png": "[encoded data removed]",
      "text/plain": [
       "<Figure size 1100x1000 with 1 Axes>"
      ]
     },
     "metadata": {},
     "output_type": "display_data"
    }
   ],
   "source": [
    "# Show the Device using in Dataset\n",
    "\n",
    "plt.figure(figsize=(11,10))\n",
    "\n",
    "\n",
    "df['Device'].value_counts().plot.pie(autopct='%1.1f%%',shadow=True)"
   ]
  },
  {
   "cell_type": "markdown",
   "id": "4af32000",
   "metadata": {
    "papermill": {
     "duration": 0.012246,
     "end_time": "2023-07-11T17:55:35.203904",
     "exception": false,
     "start_time": "2023-07-11T17:55:35.191658",
     "status": "completed"
    },
    "tags": []
   },
   "source": [
    "->The Device using in Dataset\n",
    "\n",
    "Mobile = 84.1%,\n",
    "\n",
    "Computer = 13.4%,\n",
    "\n",
    "Tab = 2.5%"
   ]
  },
  {
   "cell_type": "markdown",
   "id": "0204d377",
   "metadata": {
    "papermill": {
     "duration": 0.011865,
     "end_time": "2023-07-11T17:55:35.227762",
     "exception": false,
     "start_time": "2023-07-11T17:55:35.215897",
     "status": "completed"
    },
    "tags": []
   },
   "source": [
    "* Data Pre-Processing And Feature Extractions:\n",
    "\n",
    "We need change all data type using LabelEncoding Techniques"
   ]
  },
  {
   "cell_type": "code",
   "execution_count": 13,
   "id": "1d6729e1",
   "metadata": {
    "execution": {
     "iopub.execute_input": "2023-07-11T17:55:35.254057Z",
     "iopub.status.busy": "2023-07-11T17:55:35.253470Z",
     "iopub.status.idle": "2023-07-11T17:55:35.268954Z",
     "shell.execute_reply": "2023-07-11T17:55:35.268096Z"
    },
    "papermill": {
     "duration": 0.031234,
     "end_time": "2023-07-11T17:55:35.270920",
     "exception": false,
     "start_time": "2023-07-11T17:55:35.239686",
     "status": "completed"
    },
    "tags": []
   },
   "outputs": [],
   "source": [
    "data=df\n",
    "\n",
    "label_encoders = {}\n",
    "categorical_columns = data.columns  # I would recommend using columns names here if you're using pandas. If you're using numpy then stick with range(n) instead\n",
    "\n",
    "for column in categorical_columns:\n",
    "    label_encoders[column] = LabelEncoder()\n",
    "    data[column] = label_encoders[column].fit_transform(data[column])"
   ]
  },
  {
   "cell_type": "code",
   "execution_count": 14,
   "id": "c9c45a1b",
   "metadata": {
    "execution": {
     "iopub.execute_input": "2023-07-11T17:55:35.296701Z",
     "iopub.status.busy": "2023-07-11T17:55:35.295929Z",
     "iopub.status.idle": "2023-07-11T17:55:35.309919Z",
     "shell.execute_reply": "2023-07-11T17:55:35.309004Z"
    },
    "papermill": {
     "duration": 0.029214,
     "end_time": "2023-07-11T17:55:35.312017",
     "exception": false,
     "start_time": "2023-07-11T17:55:35.282803",
     "status": "completed"
    },
    "tags": []
   },
   "outputs": [
    {
     "data": {
      "text/html": [
       "<div>\n",
       "<style scoped>\n",
       "    .dataframe tbody tr th:only-of-type {\n",
       "        vertical-align: middle;\n",
       "    }\n",
       "\n",
       "    .dataframe tbody tr th {\n",
       "        vertical-align: top;\n",
       "    }\n",
       "\n",
       "    .dataframe thead th {\n",
       "        text-align: right;\n",
       "    }\n",
       "</style>\n",
       "<table border=\"1\" class=\"dataframe\">\n",
       "  <thead>\n",
       "    <tr style=\"text-align: right;\">\n",
       "      <th></th>\n",
       "      <th>Gender</th>\n",
       "      <th>Age</th>\n",
       "      <th>Education Level</th>\n",
       "      <th>Institution Type</th>\n",
       "      <th>IT Student</th>\n",
       "      <th>Location</th>\n",
       "      <th>Load-shedding</th>\n",
       "      <th>Financial Condition</th>\n",
       "      <th>Internet Type</th>\n",
       "      <th>Network Type</th>\n",
       "      <th>Class Duration</th>\n",
       "      <th>Self Lms</th>\n",
       "      <th>Device</th>\n",
       "      <th>Adaptivity Level</th>\n",
       "    </tr>\n",
       "  </thead>\n",
       "  <tbody>\n",
       "    <tr>\n",
       "      <th>0</th>\n",
       "      <td>0</td>\n",
       "      <td>3</td>\n",
       "      <td>2</td>\n",
       "      <td>1</td>\n",
       "      <td>0</td>\n",
       "      <td>1</td>\n",
       "      <td>1</td>\n",
       "      <td>0</td>\n",
       "      <td>1</td>\n",
       "      <td>2</td>\n",
       "      <td>2</td>\n",
       "      <td>0</td>\n",
       "      <td>2</td>\n",
       "      <td>2</td>\n",
       "    </tr>\n",
       "    <tr>\n",
       "      <th>1</th>\n",
       "      <td>1</td>\n",
       "      <td>3</td>\n",
       "      <td>2</td>\n",
       "      <td>1</td>\n",
       "      <td>0</td>\n",
       "      <td>1</td>\n",
       "      <td>0</td>\n",
       "      <td>0</td>\n",
       "      <td>0</td>\n",
       "      <td>2</td>\n",
       "      <td>1</td>\n",
       "      <td>1</td>\n",
       "      <td>1</td>\n",
       "      <td>2</td>\n",
       "    </tr>\n",
       "    <tr>\n",
       "      <th>2</th>\n",
       "      <td>1</td>\n",
       "      <td>2</td>\n",
       "      <td>0</td>\n",
       "      <td>0</td>\n",
       "      <td>0</td>\n",
       "      <td>1</td>\n",
       "      <td>1</td>\n",
       "      <td>0</td>\n",
       "      <td>1</td>\n",
       "      <td>2</td>\n",
       "      <td>1</td>\n",
       "      <td>0</td>\n",
       "      <td>1</td>\n",
       "      <td>2</td>\n",
       "    </tr>\n",
       "    <tr>\n",
       "      <th>3</th>\n",
       "      <td>1</td>\n",
       "      <td>1</td>\n",
       "      <td>1</td>\n",
       "      <td>1</td>\n",
       "      <td>0</td>\n",
       "      <td>1</td>\n",
       "      <td>1</td>\n",
       "      <td>0</td>\n",
       "      <td>0</td>\n",
       "      <td>2</td>\n",
       "      <td>1</td>\n",
       "      <td>0</td>\n",
       "      <td>1</td>\n",
       "      <td>2</td>\n",
       "    </tr>\n",
       "    <tr>\n",
       "      <th>4</th>\n",
       "      <td>1</td>\n",
       "      <td>2</td>\n",
       "      <td>1</td>\n",
       "      <td>1</td>\n",
       "      <td>0</td>\n",
       "      <td>1</td>\n",
       "      <td>1</td>\n",
       "      <td>1</td>\n",
       "      <td>0</td>\n",
       "      <td>1</td>\n",
       "      <td>0</td>\n",
       "      <td>0</td>\n",
       "      <td>1</td>\n",
       "      <td>1</td>\n",
       "    </tr>\n",
       "    <tr>\n",
       "      <th>5</th>\n",
       "      <td>0</td>\n",
       "      <td>1</td>\n",
       "      <td>1</td>\n",
       "      <td>1</td>\n",
       "      <td>0</td>\n",
       "      <td>1</td>\n",
       "      <td>1</td>\n",
       "      <td>1</td>\n",
       "      <td>0</td>\n",
       "      <td>1</td>\n",
       "      <td>1</td>\n",
       "      <td>0</td>\n",
       "      <td>1</td>\n",
       "      <td>1</td>\n",
       "    </tr>\n",
       "    <tr>\n",
       "      <th>6</th>\n",
       "      <td>0</td>\n",
       "      <td>1</td>\n",
       "      <td>1</td>\n",
       "      <td>1</td>\n",
       "      <td>0</td>\n",
       "      <td>1</td>\n",
       "      <td>1</td>\n",
       "      <td>0</td>\n",
       "      <td>1</td>\n",
       "      <td>2</td>\n",
       "      <td>0</td>\n",
       "      <td>0</td>\n",
       "      <td>1</td>\n",
       "      <td>1</td>\n",
       "    </tr>\n",
       "    <tr>\n",
       "      <th>7</th>\n",
       "      <td>0</td>\n",
       "      <td>1</td>\n",
       "      <td>1</td>\n",
       "      <td>1</td>\n",
       "      <td>0</td>\n",
       "      <td>1</td>\n",
       "      <td>1</td>\n",
       "      <td>0</td>\n",
       "      <td>1</td>\n",
       "      <td>2</td>\n",
       "      <td>1</td>\n",
       "      <td>0</td>\n",
       "      <td>1</td>\n",
       "      <td>2</td>\n",
       "    </tr>\n",
       "    <tr>\n",
       "      <th>8</th>\n",
       "      <td>0</td>\n",
       "      <td>2</td>\n",
       "      <td>0</td>\n",
       "      <td>0</td>\n",
       "      <td>0</td>\n",
       "      <td>1</td>\n",
       "      <td>1</td>\n",
       "      <td>0</td>\n",
       "      <td>1</td>\n",
       "      <td>2</td>\n",
       "      <td>1</td>\n",
       "      <td>0</td>\n",
       "      <td>1</td>\n",
       "      <td>1</td>\n",
       "    </tr>\n",
       "    <tr>\n",
       "      <th>9</th>\n",
       "      <td>0</td>\n",
       "      <td>1</td>\n",
       "      <td>1</td>\n",
       "      <td>1</td>\n",
       "      <td>0</td>\n",
       "      <td>1</td>\n",
       "      <td>1</td>\n",
       "      <td>0</td>\n",
       "      <td>0</td>\n",
       "      <td>1</td>\n",
       "      <td>1</td>\n",
       "      <td>0</td>\n",
       "      <td>1</td>\n",
       "      <td>2</td>\n",
       "    </tr>\n",
       "  </tbody>\n",
       "</table>\n",
       "</div>"
      ],
      "text/plain": [
       "   Gender  Age  Education Level  Institution Type  IT Student  Location  \\\n",
       "0       0    3                2                 1           0         1   \n",
       "1       1    3                2                 1           0         1   \n",
       "2       1    2                0                 0           0         1   \n",
       "3       1    1                1                 1           0         1   \n",
       "4       1    2                1                 1           0         1   \n",
       "5       0    1                1                 1           0         1   \n",
       "6       0    1                1                 1           0         1   \n",
       "7       0    1                1                 1           0         1   \n",
       "8       0    2                0                 0           0         1   \n",
       "9       0    1                1                 1           0         1   \n",
       "\n",
       "   Load-shedding  Financial Condition  Internet Type  Network Type  \\\n",
       "0              1                    0              1             2   \n",
       "1              0                    0              0             2   \n",
       "2              1                    0              1             2   \n",
       "3              1                    0              0             2   \n",
       "4              1                    1              0             1   \n",
       "5              1                    1              0             1   \n",
       "6              1                    0              1             2   \n",
       "7              1                    0              1             2   \n",
       "8              1                    0              1             2   \n",
       "9              1                    0              0             1   \n",
       "\n",
       "   Class Duration  Self Lms  Device  Adaptivity Level  \n",
       "0               2         0       2                 2  \n",
       "1               1         1       1                 2  \n",
       "2               1         0       1                 2  \n",
       "3               1         0       1                 2  \n",
       "4               0         0       1                 1  \n",
       "5               1         0       1                 1  \n",
       "6               0         0       1                 1  \n",
       "7               1         0       1                 2  \n",
       "8               1         0       1                 1  \n",
       "9               1         0       1                 2  "
      ]
     },
     "execution_count": 14,
     "metadata": {},
     "output_type": "execute_result"
    }
   ],
   "source": [
    "data.head(10)"
   ]
  },
  {
   "cell_type": "code",
   "execution_count": 15,
   "id": "31097f5a",
   "metadata": {
    "execution": {
     "iopub.execute_input": "2023-07-11T17:55:35.338465Z",
     "iopub.status.busy": "2023-07-11T17:55:35.338184Z",
     "iopub.status.idle": "2023-07-11T17:55:35.345088Z",
     "shell.execute_reply": "2023-07-11T17:55:35.344222Z"
    },
    "papermill": {
     "duration": 0.023086,
     "end_time": "2023-07-11T17:55:35.347454",
     "exception": false,
     "start_time": "2023-07-11T17:55:35.324368",
     "status": "completed"
    },
    "tags": []
   },
   "outputs": [],
   "source": [
    "#Defined X value and y value , and split the data train\n",
    "X = data.drop(columns=\"Adaptivity Level\")           \n",
    "y = data[\"Adaptivity Level\"]    # y = quality"
   ]
  },
  {
   "cell_type": "code",
   "execution_count": 16,
   "id": "6ed250eb",
   "metadata": {
    "execution": {
     "iopub.execute_input": "2023-07-11T17:55:35.373152Z",
     "iopub.status.busy": "2023-07-11T17:55:35.372900Z",
     "iopub.status.idle": "2023-07-11T17:55:35.379525Z",
     "shell.execute_reply": "2023-07-11T17:55:35.378707Z"
    },
    "papermill": {
     "duration": 0.021667,
     "end_time": "2023-07-11T17:55:35.381388",
     "exception": false,
     "start_time": "2023-07-11T17:55:35.359721",
     "status": "completed"
    },
    "tags": []
   },
   "outputs": [],
   "source": [
    "# split the data train and test\n",
    "X_train, X_test, y_train, y_test = train_test_split(X, y, test_size=0.20, random_state=0)"
   ]
  },
  {
   "cell_type": "code",
   "execution_count": 17,
   "id": "1d154f87",
   "metadata": {
    "execution": {
     "iopub.execute_input": "2023-07-11T17:55:35.406964Z",
     "iopub.status.busy": "2023-07-11T17:55:35.406706Z",
     "iopub.status.idle": "2023-07-11T17:55:35.412239Z",
     "shell.execute_reply": "2023-07-11T17:55:35.411310Z"
    },
    "papermill": {
     "duration": 0.020716,
     "end_time": "2023-07-11T17:55:35.414314",
     "exception": false,
     "start_time": "2023-07-11T17:55:35.393598",
     "status": "completed"
    },
    "tags": []
   },
   "outputs": [
    {
     "data": {
      "text/plain": [
       "(964, 13)"
      ]
     },
     "execution_count": 17,
     "metadata": {},
     "output_type": "execute_result"
    }
   ],
   "source": [
    "X_train.shape"
   ]
  },
  {
   "cell_type": "code",
   "execution_count": 18,
   "id": "e676cadc",
   "metadata": {
    "execution": {
     "iopub.execute_input": "2023-07-11T17:55:35.440095Z",
     "iopub.status.busy": "2023-07-11T17:55:35.439847Z",
     "iopub.status.idle": "2023-07-11T17:55:35.445026Z",
     "shell.execute_reply": "2023-07-11T17:55:35.444179Z"
    },
    "papermill": {
     "duration": 0.020275,
     "end_time": "2023-07-11T17:55:35.446911",
     "exception": false,
     "start_time": "2023-07-11T17:55:35.426636",
     "status": "completed"
    },
    "tags": []
   },
   "outputs": [
    {
     "data": {
      "text/plain": [
       "(241, 13)"
      ]
     },
     "execution_count": 18,
     "metadata": {},
     "output_type": "execute_result"
    }
   ],
   "source": [
    "X_test.shape"
   ]
  },
  {
   "cell_type": "markdown",
   "id": "c348a5bc",
   "metadata": {
    "papermill": {
     "duration": 0.012624,
     "end_time": "2023-07-11T17:55:35.472008",
     "exception": false,
     "start_time": "2023-07-11T17:55:35.459384",
     "status": "completed"
    },
    "tags": []
   },
   "source": [
    "* Machine Learning Algorithms Build & Performance Comparisions;"
   ]
  },
  {
   "cell_type": "code",
   "execution_count": 19,
   "id": "c1992c89",
   "metadata": {
    "execution": {
     "iopub.execute_input": "2023-07-11T17:55:35.498702Z",
     "iopub.status.busy": "2023-07-11T17:55:35.497976Z",
     "iopub.status.idle": "2023-07-11T17:55:35.503163Z",
     "shell.execute_reply": "2023-07-11T17:55:35.502300Z"
    },
    "papermill": {
     "duration": 0.020683,
     "end_time": "2023-07-11T17:55:35.505219",
     "exception": false,
     "start_time": "2023-07-11T17:55:35.484536",
     "status": "completed"
    },
    "tags": []
   },
   "outputs": [],
   "source": [
    "#Defined object from library classification  without Fine tuning Methods\n",
    "\n",
    "LR = LogisticRegression()\n",
    "DTR = DecisionTreeClassifier()\n",
    "\n",
    "RFR = RandomForestClassifier()\n",
    "KNR = KNeighborsClassifier()\n",
    "\n",
    "MLP = MLPClassifier()\n",
    "XGB = XGBClassifier()\n",
    "SVC=SVC()"
   ]
  },
  {
   "cell_type": "code",
   "execution_count": 20,
   "id": "a1a24b68",
   "metadata": {
    "execution": {
     "iopub.execute_input": "2023-07-11T17:55:35.531311Z",
     "iopub.status.busy": "2023-07-11T17:55:35.531031Z",
     "iopub.status.idle": "2023-07-11T17:55:37.021302Z",
     "shell.execute_reply": "2023-07-11T17:55:37.019964Z"
    },
    "papermill": {
     "duration": 1.505691,
     "end_time": "2023-07-11T17:55:37.023385",
     "exception": false,
     "start_time": "2023-07-11T17:55:35.517694",
     "status": "completed"
    },
    "tags": []
   },
   "outputs": [
    {
     "name": "stdout",
     "output_type": "stream",
     "text": [
      "LogisticRegression() : 66.39004149377593\n",
      "DecisionTreeClassifier() : 90.87136929460581\n",
      "RandomForestClassifier() : 91.70124481327801\n",
      "KNeighborsClassifier() : 79.25311203319502\n"
     ]
    },
    {
     "name": "stderr",
     "output_type": "stream",
     "text": [
      "/opt/conda/lib/python3.10/site-packages/sklearn/neural_network/_multilayer_perceptron.py:686: ConvergenceWarning: Stochastic Optimizer: Maximum iterations (200) reached and the optimization hasn't converged yet.\n",
      "  warnings.warn(\n"
     ]
    },
    {
     "name": "stdout",
     "output_type": "stream",
     "text": [
      "MLPClassifier() : 83.81742738589212\n",
      "KNeighborsClassifier() : 79.25311203319502\n",
      "XGBClassifier(base_score=None, booster=None, callbacks=None,\n",
      "              colsample_bylevel=None, colsample_bynode=None,\n",
      "              colsample_bytree=None, early_stopping_rounds=None,\n",
      "              enable_categorical=False, eval_metric=None, feature_types=None,\n",
      "              gamma=None, gpu_id=None, grow_policy=None, importance_type=None,\n",
      "              interaction_constraints=None, learning_rate=None, max_bin=None,\n",
      "              max_cat_threshold=None, max_cat_to_onehot=None,\n",
      "              max_delta_step=None, max_depth=None, max_leaves=None,\n",
      "              min_child_weight=None, missing=nan, monotone_constraints=None,\n",
      "              n_estimators=100, n_jobs=None, num_parallel_tree=None,\n",
      "              objective='multi:softprob', predictor=None, ...) : 91.70124481327801\n",
      "SVC() : 73.44398340248964\n"
     ]
    }
   ],
   "source": [
    "# make for loop for classification \n",
    "\n",
    "li = [LR,DTR,RFR,KNR,MLP,KNR,XGB,SVC]\n",
    "d = {}\n",
    "for i in li:\n",
    "    i.fit(X_train,y_train)\n",
    "    ypred = i.predict(X_test)\n",
    "    print(i,\":\",accuracy_score(y_test,ypred)*100)\n",
    "    d.update({str(i):i.score(X_test,y_test)*100})"
   ]
  },
  {
   "cell_type": "markdown",
   "id": "0a927f15",
   "metadata": {
    "papermill": {
     "duration": 0.014959,
     "end_time": "2023-07-11T17:55:37.051865",
     "exception": false,
     "start_time": "2023-07-11T17:55:37.036906",
     "status": "completed"
    },
    "tags": []
   },
   "source": [
    "The best ML Model is RandomForestClassifier-> 92.12% Accuracy"
   ]
  },
  {
   "cell_type": "code",
   "execution_count": 21,
   "id": "826613db",
   "metadata": {
    "execution": {
     "iopub.execute_input": "2023-07-11T17:55:37.079179Z",
     "iopub.status.busy": "2023-07-11T17:55:37.078885Z",
     "iopub.status.idle": "2023-07-11T17:55:37.553980Z",
     "shell.execute_reply": "2023-07-11T17:55:37.553058Z"
    },
    "papermill": {
     "duration": 0.492505,
     "end_time": "2023-07-11T17:55:37.557421",
     "exception": false,
     "start_time": "2023-07-11T17:55:37.064916",
     "status": "completed"
    },
    "tags": []
   },
   "outputs": [
    {
     "data": {
      "image/png": "[encoded data removed]",
      "text/plain": [
       "<Figure size 2400x1000 with 1 Axes>"
      ]
     },
     "metadata": {},
     "output_type": "display_data"
    }
   ],
   "source": [
    "# make graph about Accuracy\n",
    "\n",
    "plt.figure(figsize=(24, 10))\n",
    "plt.title(\"Algorithm vs Accuracy\")\n",
    "plt.xlabel(\"Algorithm\")\n",
    "plt.ylabel(\"Accuracy\")\n",
    "plt.plot(d.keys(),d.values(),marker='o',color='blue')\n",
    "plt.show()"
   ]
  },
  {
   "cell_type": "markdown",
   "id": "c80b44fd",
   "metadata": {
    "papermill": {
     "duration": 0.014812,
     "end_time": "2023-07-11T17:55:37.587416",
     "exception": false,
     "start_time": "2023-07-11T17:55:37.572604",
     "status": "completed"
    },
    "tags": []
   },
   "source": [
    "-> Deep Neural Networks Model Performance Analysis"
   ]
  },
  {
   "cell_type": "code",
   "execution_count": 22,
   "id": "a7410930",
   "metadata": {
    "execution": {
     "iopub.execute_input": "2023-07-11T17:55:37.618282Z",
     "iopub.status.busy": "2023-07-11T17:55:37.617964Z",
     "iopub.status.idle": "2023-07-11T17:55:45.625167Z",
     "shell.execute_reply": "2023-07-11T17:55:45.624082Z"
    },
    "papermill": {
     "duration": 8.025635,
     "end_time": "2023-07-11T17:55:45.627802",
     "exception": false,
     "start_time": "2023-07-11T17:55:37.602167",
     "status": "completed"
    },
    "tags": []
   },
   "outputs": [
    {
     "name": "stderr",
     "output_type": "stream",
     "text": [
      "/opt/conda/lib/python3.10/site-packages/tensorflow_io/python/ops/__init__.py:98: UserWarning: unable to load libtensorflow_io_plugins.so: unable to open file: libtensorflow_io_plugins.so, from paths: ['/opt/conda/lib/python3.10/site-packages/tensorflow_io/python/ops/libtensorflow_io_plugins.so']\n",
      "caused by: ['/opt/conda/lib/python3.10/site-packages/tensorflow_io/python/ops/libtensorflow_io_plugins.so: undefined symbol: _ZN3tsl6StatusC1EN10tensorflow5error4CodeESt17basic_string_viewIcSt11char_traitsIcEENS_14SourceLocationE']\n",
      "  warnings.warn(f\"unable to load libtensorflow_io_plugins.so: {e}\")\n",
      "/opt/conda/lib/python3.10/site-packages/tensorflow_io/python/ops/__init__.py:104: UserWarning: file system plugins are not loaded: unable to open file: libtensorflow_io.so, from paths: ['/opt/conda/lib/python3.10/site-packages/tensorflow_io/python/ops/libtensorflow_io.so']\n",
      "caused by: ['/opt/conda/lib/python3.10/site-packages/tensorflow_io/python/ops/libtensorflow_io.so: undefined symbol: _ZTVN10tensorflow13GcsFileSystemE']\n",
      "  warnings.warn(f\"file system plugins are not loaded: {e}\")\n"
     ]
    }
   ],
   "source": [
    "import tensorflow as tf"
   ]
  },
  {
   "cell_type": "code",
   "execution_count": 23,
   "id": "203c73fd",
   "metadata": {
    "execution": {
     "iopub.execute_input": "2023-07-11T17:55:45.660415Z",
     "iopub.status.busy": "2023-07-11T17:55:45.659551Z",
     "iopub.status.idle": "2023-07-11T17:55:48.728524Z",
     "shell.execute_reply": "2023-07-11T17:55:48.727510Z"
    },
    "papermill": {
     "duration": 3.087529,
     "end_time": "2023-07-11T17:55:48.730883",
     "exception": false,
     "start_time": "2023-07-11T17:55:45.643354",
     "status": "completed"
    },
    "tags": []
   },
   "outputs": [],
   "source": [
    "# building model and we made split the data - train and test\n",
    "\n",
    "model = tf.keras.models.Sequential([\n",
    "    tf.keras.layers.InputLayer(input_shape = X_train.shape[1:]),\n",
    "    tf.keras.layers.BatchNormalization(),\n",
    "    tf.keras.layers.Dense(512 , activation = 'selu',kernel_initializer = 'lecun_normal'),\n",
    "    tf.keras.layers.BatchNormalization(),\n",
    "    tf.keras.layers.Dense(256 , activation = 'selu' , kernel_initializer = 'lecun_normal'),\n",
    "    tf.keras.layers.BatchNormalization(),\n",
    "    tf.keras.layers.Dense(3 , activation = 'softmax')\n",
    "])"
   ]
  },
  {
   "cell_type": "code",
   "execution_count": 24,
   "id": "ae7e5b16",
   "metadata": {
    "execution": {
     "iopub.execute_input": "2023-07-11T17:55:48.764456Z",
     "iopub.status.busy": "2023-07-11T17:55:48.764110Z",
     "iopub.status.idle": "2023-07-11T17:55:48.780233Z",
     "shell.execute_reply": "2023-07-11T17:55:48.779372Z"
    },
    "papermill": {
     "duration": 0.034443,
     "end_time": "2023-07-11T17:55:48.782362",
     "exception": false,
     "start_time": "2023-07-11T17:55:48.747919",
     "status": "completed"
    },
    "tags": []
   },
   "outputs": [],
   "source": [
    "#Model Compiple\n",
    "model.compile(loss = tf.keras.losses.sparse_categorical_crossentropy ,\n",
    "              optimizer = tf.keras.optimizers.Nadam() ,\n",
    "              metrics = ['accuracy'])"
   ]
  },
  {
   "cell_type": "code",
   "execution_count": 25,
   "id": "97eea7cb",
   "metadata": {
    "execution": {
     "iopub.execute_input": "2023-07-11T17:55:48.813599Z",
     "iopub.status.busy": "2023-07-11T17:55:48.813330Z",
     "iopub.status.idle": "2023-07-11T17:55:58.038108Z",
     "shell.execute_reply": "2023-07-11T17:55:58.037180Z"
    },
    "papermill": {
     "duration": 9.242673,
     "end_time": "2023-07-11T17:55:58.040171",
     "exception": false,
     "start_time": "2023-07-11T17:55:48.797498",
     "status": "completed"
    },
    "tags": []
   },
   "outputs": [
    {
     "name": "stdout",
     "output_type": "stream",
     "text": [
      "Epoch 1/100\n",
      "31/31 [==============================] - 7s 6ms/step - loss: 1.0011 - accuracy: 0.5913\n",
      "Epoch 2/100\n",
      "31/31 [==============================] - 0s 5ms/step - loss: 0.7000 - accuracy: 0.7313\n",
      "Epoch 3/100\n",
      "31/31 [==============================] - 0s 5ms/step - loss: 0.6273 - accuracy: 0.7583\n",
      "Epoch 4/100\n",
      "31/31 [==============================] - 0s 5ms/step - loss: 0.5630 - accuracy: 0.7707\n",
      "Epoch 5/100\n",
      "31/31 [==============================] - 0s 6ms/step - loss: 0.5200 - accuracy: 0.7894\n",
      "Epoch 6/100\n",
      "31/31 [==============================] - 0s 5ms/step - loss: 0.5240 - accuracy: 0.7853\n",
      "Epoch 7/100\n",
      "31/31 [==============================] - 0s 5ms/step - loss: 0.4915 - accuracy: 0.7873\n",
      "Epoch 8/100\n",
      "31/31 [==============================] - 0s 5ms/step - loss: 0.4295 - accuracy: 0.8143\n",
      "Epoch 9/100\n",
      "31/31 [==============================] - 0s 6ms/step - loss: 0.4583 - accuracy: 0.8039\n",
      "Epoch 10/100\n",
      "31/31 [==============================] - 0s 5ms/step - loss: 0.4598 - accuracy: 0.8039\n",
      "Epoch 11/100\n",
      "31/31 [==============================] - 0s 5ms/step - loss: 0.4354 - accuracy: 0.8216\n",
      "Epoch 12/100\n",
      "31/31 [==============================] - 0s 5ms/step - loss: 0.4346 - accuracy: 0.8102\n",
      "Epoch 13/100\n",
      "31/31 [==============================] - 0s 5ms/step - loss: 0.4418 - accuracy: 0.8174\n"
     ]
    },
    {
     "data": {
      "text/plain": [
       "<keras.callbacks.History at 0x7bed28368f70>"
      ]
     },
     "execution_count": 25,
     "metadata": {},
     "output_type": "execute_result"
    }
   ],
   "source": [
    "#Model Training\n",
    "model.fit(X_train , y_train,\n",
    "          epochs = 100,\n",
    "          callbacks = [tf.keras.callbacks.EarlyStopping(monitor='loss' ,mode = 'min', patience = 5)])"
   ]
  },
  {
   "cell_type": "code",
   "execution_count": 26,
   "id": "4a505b56",
   "metadata": {
    "execution": {
     "iopub.execute_input": "2023-07-11T17:55:58.084434Z",
     "iopub.status.busy": "2023-07-11T17:55:58.083632Z",
     "iopub.status.idle": "2023-07-11T17:56:01.183971Z",
     "shell.execute_reply": "2023-07-11T17:56:01.182525Z"
    },
    "papermill": {
     "duration": 3.124218,
     "end_time": "2023-07-11T17:56:01.186023",
     "exception": false,
     "start_time": "2023-07-11T17:55:58.061805",
     "status": "completed"
    },
    "tags": []
   },
   "outputs": [
    {
     "name": "stdout",
     "output_type": "stream",
     "text": [
      "8/8 [==============================] - 0s 3ms/step - loss: 0.4380 - accuracy: 0.8340\n",
      "The Score TF model : 0.8340249061584473\n"
     ]
    }
   ],
   "source": [
    "#Evaluate the Model Training \n",
    "a , score = model.evaluate(X_test , y_test)\n",
    "\n",
    "print(\"The Score TF model :\",score)"
   ]
  },
  {
   "cell_type": "code",
   "execution_count": 27,
   "id": "c9afe294",
   "metadata": {
    "execution": {
     "iopub.execute_input": "2023-07-11T17:56:01.229932Z",
     "iopub.status.busy": "2023-07-11T17:56:01.229048Z",
     "iopub.status.idle": "2023-07-11T17:56:01.233585Z",
     "shell.execute_reply": "2023-07-11T17:56:01.232644Z"
    },
    "papermill": {
     "duration": 0.028534,
     "end_time": "2023-07-11T17:56:01.235713",
     "exception": false,
     "start_time": "2023-07-11T17:56:01.207179",
     "status": "completed"
    },
    "tags": []
   },
   "outputs": [],
   "source": [
    "#"
   ]
  }
 ],
 "metadata": {
  "kernelspec": {
   "display_name": "Python 3",
   "language": "python",
   "name": "python3"
  },
  "language_info": {
   "codemirror_mode": {
    "name": "ipython",
    "version": 3
   },
   "file_extension": ".py",
   "mimetype": "text/x-python",
   "name": "python",
   "nbconvert_exporter": "python",
   "pygments_lexer": "ipython3",
   "version": "3.10.12"
  },
  "papermill": {
   "default_parameters": {},
   "duration": 44.048117,
   "end_time": "2023-07-11T17:56:05.126251",
   "environment_variables": {},
   "exception": null,
   "input_path": "__notebook__.ipynb",
   "output_path": "__notebook__.ipynb",
   "parameters": {},
   "start_time": "2023-07-11T17:55:21.078134",
   "version": "2.4.0"
  }
 },
 "nbformat": 4,
 "nbformat_minor": 5
}
